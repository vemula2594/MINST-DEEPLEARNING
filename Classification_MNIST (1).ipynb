{
 "cells": [
  {
   "cell_type": "markdown",
   "metadata": {
    "colab_type": "text",
    "id": "2FOkt_PVMd6h",
    "slideshow": {
     "slide_type": "slide"
    }
   },
   "source": [
    "### Load tensorflow"
   ]
  },
  {
   "cell_type": "code",
   "execution_count": 29,
   "metadata": {
    "ExecuteTime": {
     "end_time": "2023-01-17T21:20:44.666761Z",
     "start_time": "2023-01-17T21:20:44.637816Z"
    },
    "colab": {},
    "colab_type": "code",
    "id": "QknvBKm3Md6j"
   },
   "outputs": [],
   "source": [
    "import tensorflow as tf"
   ]
  },
  {
   "cell_type": "markdown",
   "metadata": {
    "colab_type": "text",
    "id": "QHbDtQQJMd6m",
    "slideshow": {
     "slide_type": "slide"
    }
   },
   "source": [
    "### Collect Data"
   ]
  },
  {
   "cell_type": "code",
   "execution_count": 30,
   "metadata": {
    "ExecuteTime": {
     "end_time": "2023-01-17T21:20:45.786442Z",
     "start_time": "2023-01-17T21:20:44.673517Z"
    },
    "colab": {},
    "colab_type": "code",
    "id": "AJ6bJeCGMd6n"
   },
   "outputs": [],
   "source": [
    "(trainX, trainY),(testX, testY) = tf.keras.datasets.mnist.load_data()"
   ]
  },
  {
   "cell_type": "code",
   "execution_count": 31,
   "metadata": {
    "ExecuteTime": {
     "end_time": "2023-01-17T21:20:45.817145Z",
     "start_time": "2023-01-17T21:20:45.790994Z"
    }
   },
   "outputs": [
    {
     "data": {
      "text/plain": [
       "(60000, 28, 28)"
      ]
     },
     "execution_count": 31,
     "metadata": {},
     "output_type": "execute_result"
    }
   ],
   "source": [
    "trainX.shape"
   ]
  },
  {
   "cell_type": "code",
   "execution_count": 32,
   "metadata": {
    "ExecuteTime": {
     "end_time": "2023-01-17T21:20:45.999662Z",
     "start_time": "2023-01-17T21:20:45.823864Z"
    }
   },
   "outputs": [
    {
     "data": {
      "text/plain": [
       "(60000,)"
      ]
     },
     "execution_count": 32,
     "metadata": {},
     "output_type": "execute_result"
    }
   ],
   "source": [
    "trainY.shape"
   ]
  },
  {
   "cell_type": "code",
   "execution_count": 33,
   "metadata": {
    "ExecuteTime": {
     "end_time": "2023-01-17T21:20:46.124031Z",
     "start_time": "2023-01-17T21:20:46.010513Z"
    }
   },
   "outputs": [
    {
     "data": {
      "text/plain": [
       "(10000, 28, 28)"
      ]
     },
     "execution_count": 33,
     "metadata": {},
     "output_type": "execute_result"
    }
   ],
   "source": [
    "testX.shape"
   ]
  },
  {
   "cell_type": "code",
   "execution_count": 34,
   "metadata": {
    "ExecuteTime": {
     "end_time": "2023-01-17T21:20:46.252986Z",
     "start_time": "2023-01-17T21:20:46.134086Z"
    }
   },
   "outputs": [
    {
     "data": {
      "text/plain": [
       "(10000,)"
      ]
     },
     "execution_count": 34,
     "metadata": {},
     "output_type": "execute_result"
    }
   ],
   "source": [
    "testY.shape"
   ]
  },
  {
   "cell_type": "code",
   "execution_count": 35,
   "metadata": {
    "ExecuteTime": {
     "end_time": "2023-01-17T21:20:46.410179Z",
     "start_time": "2023-01-17T21:20:46.265363Z"
    },
    "scrolled": true
   },
   "outputs": [
    {
     "data": {
      "text/plain": [
       "array([[  0,   0,   0,   0,   0,   0,   0,   0,   0,   0,   0,   0,   0,\n",
       "          0,   0,   0,   0,   0,   0,   0,   0,   0,   0,   0,   0,   0,\n",
       "          0,   0],\n",
       "       [  0,   0,   0,   0,   0,   0,   0,   0,   0,   0,   0,   0,   0,\n",
       "          0,   0,   0,   0,   0,   0,   0,   0,   0,   0,   0,   0,   0,\n",
       "          0,   0],\n",
       "       [  0,   0,   0,   0,   0,   0,   0,   0,   0,   0,   0,   0,   0,\n",
       "          0,   0,   0,   0,   0,   0,   0,   0,   0,   0,   0,   0,   0,\n",
       "          0,   0],\n",
       "       [  0,   0,   0,   0,   0,   0,   0,   0,   0,   0,   0,   0,   0,\n",
       "          0,   0,   0,   0,   0,   0,   0,   0,   0,   0,   0,   0,   0,\n",
       "          0,   0],\n",
       "       [  0,   0,   0,   0,   0,   0,   0,   0,   0,   0,   0,   0,   0,\n",
       "          0,   0,   0,   0,   0,   0,   0,   0,   0,   0,   0,   0,   0,\n",
       "          0,   0],\n",
       "       [  0,   0,   0,   0,   0,   0,   0,   0,   0,   0,   0,   0,   3,\n",
       "         18,  18,  18, 126, 136, 175,  26, 166, 255, 247, 127,   0,   0,\n",
       "          0,   0],\n",
       "       [  0,   0,   0,   0,   0,   0,   0,   0,  30,  36,  94, 154, 170,\n",
       "        253, 253, 253, 253, 253, 225, 172, 253, 242, 195,  64,   0,   0,\n",
       "          0,   0],\n",
       "       [  0,   0,   0,   0,   0,   0,   0,  49, 238, 253, 253, 253, 253,\n",
       "        253, 253, 253, 253, 251,  93,  82,  82,  56,  39,   0,   0,   0,\n",
       "          0,   0],\n",
       "       [  0,   0,   0,   0,   0,   0,   0,  18, 219, 253, 253, 253, 253,\n",
       "        253, 198, 182, 247, 241,   0,   0,   0,   0,   0,   0,   0,   0,\n",
       "          0,   0],\n",
       "       [  0,   0,   0,   0,   0,   0,   0,   0,  80, 156, 107, 253, 253,\n",
       "        205,  11,   0,  43, 154,   0,   0,   0,   0,   0,   0,   0,   0,\n",
       "          0,   0],\n",
       "       [  0,   0,   0,   0,   0,   0,   0,   0,   0,  14,   1, 154, 253,\n",
       "         90,   0,   0,   0,   0,   0,   0,   0,   0,   0,   0,   0,   0,\n",
       "          0,   0],\n",
       "       [  0,   0,   0,   0,   0,   0,   0,   0,   0,   0,   0, 139, 253,\n",
       "        190,   2,   0,   0,   0,   0,   0,   0,   0,   0,   0,   0,   0,\n",
       "          0,   0],\n",
       "       [  0,   0,   0,   0,   0,   0,   0,   0,   0,   0,   0,  11, 190,\n",
       "        253,  70,   0,   0,   0,   0,   0,   0,   0,   0,   0,   0,   0,\n",
       "          0,   0],\n",
       "       [  0,   0,   0,   0,   0,   0,   0,   0,   0,   0,   0,   0,  35,\n",
       "        241, 225, 160, 108,   1,   0,   0,   0,   0,   0,   0,   0,   0,\n",
       "          0,   0],\n",
       "       [  0,   0,   0,   0,   0,   0,   0,   0,   0,   0,   0,   0,   0,\n",
       "         81, 240, 253, 253, 119,  25,   0,   0,   0,   0,   0,   0,   0,\n",
       "          0,   0],\n",
       "       [  0,   0,   0,   0,   0,   0,   0,   0,   0,   0,   0,   0,   0,\n",
       "          0,  45, 186, 253, 253, 150,  27,   0,   0,   0,   0,   0,   0,\n",
       "          0,   0],\n",
       "       [  0,   0,   0,   0,   0,   0,   0,   0,   0,   0,   0,   0,   0,\n",
       "          0,   0,  16,  93, 252, 253, 187,   0,   0,   0,   0,   0,   0,\n",
       "          0,   0],\n",
       "       [  0,   0,   0,   0,   0,   0,   0,   0,   0,   0,   0,   0,   0,\n",
       "          0,   0,   0,   0, 249, 253, 249,  64,   0,   0,   0,   0,   0,\n",
       "          0,   0],\n",
       "       [  0,   0,   0,   0,   0,   0,   0,   0,   0,   0,   0,   0,   0,\n",
       "          0,  46, 130, 183, 253, 253, 207,   2,   0,   0,   0,   0,   0,\n",
       "          0,   0],\n",
       "       [  0,   0,   0,   0,   0,   0,   0,   0,   0,   0,   0,   0,  39,\n",
       "        148, 229, 253, 253, 253, 250, 182,   0,   0,   0,   0,   0,   0,\n",
       "          0,   0],\n",
       "       [  0,   0,   0,   0,   0,   0,   0,   0,   0,   0,  24, 114, 221,\n",
       "        253, 253, 253, 253, 201,  78,   0,   0,   0,   0,   0,   0,   0,\n",
       "          0,   0],\n",
       "       [  0,   0,   0,   0,   0,   0,   0,   0,  23,  66, 213, 253, 253,\n",
       "        253, 253, 198,  81,   2,   0,   0,   0,   0,   0,   0,   0,   0,\n",
       "          0,   0],\n",
       "       [  0,   0,   0,   0,   0,   0,  18, 171, 219, 253, 253, 253, 253,\n",
       "        195,  80,   9,   0,   0,   0,   0,   0,   0,   0,   0,   0,   0,\n",
       "          0,   0],\n",
       "       [  0,   0,   0,   0,  55, 172, 226, 253, 253, 253, 253, 244, 133,\n",
       "         11,   0,   0,   0,   0,   0,   0,   0,   0,   0,   0,   0,   0,\n",
       "          0,   0],\n",
       "       [  0,   0,   0,   0, 136, 253, 253, 253, 212, 135, 132,  16,   0,\n",
       "          0,   0,   0,   0,   0,   0,   0,   0,   0,   0,   0,   0,   0,\n",
       "          0,   0],\n",
       "       [  0,   0,   0,   0,   0,   0,   0,   0,   0,   0,   0,   0,   0,\n",
       "          0,   0,   0,   0,   0,   0,   0,   0,   0,   0,   0,   0,   0,\n",
       "          0,   0],\n",
       "       [  0,   0,   0,   0,   0,   0,   0,   0,   0,   0,   0,   0,   0,\n",
       "          0,   0,   0,   0,   0,   0,   0,   0,   0,   0,   0,   0,   0,\n",
       "          0,   0],\n",
       "       [  0,   0,   0,   0,   0,   0,   0,   0,   0,   0,   0,   0,   0,\n",
       "          0,   0,   0,   0,   0,   0,   0,   0,   0,   0,   0,   0,   0,\n",
       "          0,   0]], dtype=uint8)"
      ]
     },
     "execution_count": 35,
     "metadata": {},
     "output_type": "execute_result"
    }
   ],
   "source": [
    "trainX[0]\n",
    "#zeros indicates white spaces b/w image"
   ]
  },
  {
   "cell_type": "code",
   "execution_count": 36,
   "metadata": {
    "ExecuteTime": {
     "end_time": "2023-01-17T21:20:46.567283Z",
     "start_time": "2023-01-17T21:20:46.414445Z"
    }
   },
   "outputs": [
    {
     "name": "stdout",
     "output_type": "stream",
     "text": [
      "[7 2 1 0 4]\n"
     ]
    }
   ],
   "source": [
    "print(testY[0:5])"
   ]
  },
  {
   "cell_type": "markdown",
   "metadata": {
    "colab_type": "text",
    "id": "8rxmqpkpMd6r",
    "slideshow": {
     "slide_type": "slide"
    }
   },
   "source": [
    "### Convert Output label to multiple values"
   ]
  },
  {
   "cell_type": "code",
   "execution_count": 37,
   "metadata": {
    "ExecuteTime": {
     "end_time": "2023-01-17T21:20:46.714126Z",
     "start_time": "2023-01-17T21:20:46.577017Z"
    },
    "colab": {},
    "colab_type": "code",
    "id": "Jr8yucgyMd6s"
   },
   "outputs": [],
   "source": [
    "trainY = tf.keras.utils.to_categorical(trainY, num_classes=10)\n",
    "testY = tf.keras.utils.to_categorical(testY, num_classes=10)"
   ]
  },
  {
   "cell_type": "code",
   "execution_count": 41,
   "metadata": {
    "ExecuteTime": {
     "end_time": "2023-01-17T21:21:37.902506Z",
     "start_time": "2023-01-17T21:21:37.890219Z"
    }
   },
   "outputs": [
    {
     "data": {
      "text/plain": [
       "array([[0., 0., 0., ..., 0., 0., 0.],\n",
       "       [1., 0., 0., ..., 0., 0., 0.],\n",
       "       [0., 0., 0., ..., 0., 0., 0.],\n",
       "       ...,\n",
       "       [0., 0., 0., ..., 0., 0., 0.],\n",
       "       [0., 0., 0., ..., 0., 0., 0.],\n",
       "       [0., 0., 0., ..., 0., 1., 0.]], dtype=float32)"
      ]
     },
     "execution_count": 41,
     "metadata": {},
     "output_type": "execute_result"
    }
   ],
   "source": [
    "trainY"
   ]
  },
  {
   "cell_type": "code",
   "execution_count": 42,
   "metadata": {
    "ExecuteTime": {
     "end_time": "2023-01-17T21:21:43.228402Z",
     "start_time": "2023-01-17T21:21:43.207866Z"
    }
   },
   "outputs": [
    {
     "data": {
      "text/plain": [
       "array([[0., 0., 0., ..., 1., 0., 0.],\n",
       "       [0., 0., 1., ..., 0., 0., 0.],\n",
       "       [0., 1., 0., ..., 0., 0., 0.],\n",
       "       ...,\n",
       "       [0., 0., 0., ..., 0., 0., 0.],\n",
       "       [0., 0., 0., ..., 0., 0., 0.],\n",
       "       [0., 0., 0., ..., 0., 0., 0.]], dtype=float32)"
      ]
     },
     "execution_count": 42,
     "metadata": {},
     "output_type": "execute_result"
    }
   ],
   "source": [
    "testY"
   ]
  },
  {
   "cell_type": "code",
   "execution_count": 43,
   "metadata": {
    "ExecuteTime": {
     "end_time": "2023-01-17T21:21:56.051893Z",
     "start_time": "2023-01-17T21:21:56.030067Z"
    }
   },
   "outputs": [
    {
     "name": "stdout",
     "output_type": "stream",
     "text": [
      "(60000, 10)\n",
      "first 2 examples now are: [[0. 0. 0. 0. 0. 1. 0. 0. 0. 0.]\n",
      " [1. 0. 0. 0. 0. 0. 0. 0. 0. 0.]]\n"
     ]
    }
   ],
   "source": [
    "print(trainY.shape)\n",
    "print('first 2 examples now are:' , trainY[0:2])"
   ]
  },
  {
   "cell_type": "markdown",
   "metadata": {},
   "source": [
    "# BUILDING MODEL"
   ]
  },
  {
   "cell_type": "code",
   "execution_count": 38,
   "metadata": {
    "ExecuteTime": {
     "end_time": "2023-01-17T21:20:47.036457Z",
     "start_time": "2023-01-17T21:20:46.723809Z"
    }
   },
   "outputs": [],
   "source": [
    "#Intialize Sequential model\n",
    "model = tf.keras.models.Sequential()\n",
    "#reshaping data (rearranging the data into the eqn from metrix) 2D to !D\n",
    "#lossing positional infomation for reshaping \n",
    "model.add(tf.keras.layers.Reshape((784,),input_shape=(28,28,)))\n",
    "#normalizing the data \n",
    "model.add(tf.keras.layers.BatchNormalization())\n",
    "#Adding dense layers \n",
    "model.add(tf.keras.layers.Dense(10,activation='softmax'))\n",
    "#complie model \n",
    "#categorical_crossentropy for classification problems\n",
    "model.compile(optimizer='sgd',loss='categorical_crossentropy',metrics=['accuracy'])"
   ]
  },
  {
   "cell_type": "code",
   "execution_count": 39,
   "metadata": {
    "ExecuteTime": {
     "end_time": "2023-01-17T21:20:47.197595Z",
     "start_time": "2023-01-17T21:20:47.039447Z"
    }
   },
   "outputs": [
    {
     "name": "stdout",
     "output_type": "stream",
     "text": [
      "Model: \"sequential_2\"\n",
      "_________________________________________________________________\n",
      " Layer (type)                Output Shape              Param #   \n",
      "=================================================================\n",
      " reshape_2 (Reshape)         (None, 784)               0         \n",
      "                                                                 \n",
      " batch_normalization_4 (Batc  (None, 784)              3136      \n",
      " hNormalization)                                                 \n",
      "                                                                 \n",
      " dense_6 (Dense)             (None, 10)                7850      \n",
      "                                                                 \n",
      "=================================================================\n",
      "Total params: 10,986\n",
      "Trainable params: 9,418\n",
      "Non-trainable params: 1,568\n",
      "_________________________________________________________________\n"
     ]
    }
   ],
   "source": [
    "model.summary()"
   ]
  },
  {
   "cell_type": "code",
   "execution_count": 46,
   "metadata": {
    "ExecuteTime": {
     "end_time": "2023-01-17T21:27:12.088009Z",
     "start_time": "2023-01-17T21:25:39.978797Z"
    },
    "scrolled": true
   },
   "outputs": [
    {
     "name": "stdout",
     "output_type": "stream",
     "text": [
      "Epoch 1/100\n",
      "1/1 [==============================] - 1s 1s/step - loss: 0.2809 - accuracy: 0.9245 - val_loss: 0.3568 - val_accuracy: 0.9207\n",
      "Epoch 2/100\n",
      "1/1 [==============================] - 1s 904ms/step - loss: 0.2808 - accuracy: 0.9245 - val_loss: 0.3491 - val_accuracy: 0.9208\n",
      "Epoch 3/100\n",
      "1/1 [==============================] - 1s 937ms/step - loss: 0.2808 - accuracy: 0.9245 - val_loss: 0.3446 - val_accuracy: 0.9207\n",
      "Epoch 4/100\n",
      "1/1 [==============================] - 1s 971ms/step - loss: 0.2807 - accuracy: 0.9246 - val_loss: 0.3415 - val_accuracy: 0.9206\n",
      "Epoch 5/100\n",
      "1/1 [==============================] - 1s 896ms/step - loss: 0.2806 - accuracy: 0.9246 - val_loss: 0.3391 - val_accuracy: 0.9206\n",
      "Epoch 6/100\n",
      "1/1 [==============================] - 1s 865ms/step - loss: 0.2806 - accuracy: 0.9246 - val_loss: 0.3371 - val_accuracy: 0.9206\n",
      "Epoch 7/100\n",
      "1/1 [==============================] - 1s 920ms/step - loss: 0.2805 - accuracy: 0.9247 - val_loss: 0.3354 - val_accuracy: 0.9207\n",
      "Epoch 8/100\n",
      "1/1 [==============================] - 1s 942ms/step - loss: 0.2804 - accuracy: 0.9246 - val_loss: 0.3339 - val_accuracy: 0.9208\n",
      "Epoch 9/100\n",
      "1/1 [==============================] - 1s 955ms/step - loss: 0.2804 - accuracy: 0.9247 - val_loss: 0.3326 - val_accuracy: 0.9208\n",
      "Epoch 10/100\n",
      "1/1 [==============================] - 1s 962ms/step - loss: 0.2803 - accuracy: 0.9247 - val_loss: 0.3315 - val_accuracy: 0.9207\n",
      "Epoch 11/100\n",
      "1/1 [==============================] - 1s 917ms/step - loss: 0.2802 - accuracy: 0.9246 - val_loss: 0.3304 - val_accuracy: 0.9207\n",
      "Epoch 12/100\n",
      "1/1 [==============================] - 1s 935ms/step - loss: 0.2802 - accuracy: 0.9246 - val_loss: 0.3295 - val_accuracy: 0.9207\n",
      "Epoch 13/100\n",
      "1/1 [==============================] - 1s 873ms/step - loss: 0.2801 - accuracy: 0.9246 - val_loss: 0.3286 - val_accuracy: 0.9207\n",
      "Epoch 14/100\n",
      "1/1 [==============================] - 1s 999ms/step - loss: 0.2800 - accuracy: 0.9246 - val_loss: 0.3278 - val_accuracy: 0.9208\n",
      "Epoch 15/100\n",
      "1/1 [==============================] - 1s 1s/step - loss: 0.2800 - accuracy: 0.9247 - val_loss: 0.3270 - val_accuracy: 0.9208\n",
      "Epoch 16/100\n",
      "1/1 [==============================] - 1s 1s/step - loss: 0.2799 - accuracy: 0.9247 - val_loss: 0.3263 - val_accuracy: 0.9208\n",
      "Epoch 17/100\n",
      "1/1 [==============================] - 1s 950ms/step - loss: 0.2799 - accuracy: 0.9247 - val_loss: 0.3256 - val_accuracy: 0.9208\n",
      "Epoch 18/100\n",
      "1/1 [==============================] - 1s 880ms/step - loss: 0.2798 - accuracy: 0.9247 - val_loss: 0.3250 - val_accuracy: 0.9209\n",
      "Epoch 19/100\n",
      "1/1 [==============================] - 1s 883ms/step - loss: 0.2797 - accuracy: 0.9247 - val_loss: 0.3244 - val_accuracy: 0.9210\n",
      "Epoch 20/100\n",
      "1/1 [==============================] - 1s 894ms/step - loss: 0.2797 - accuracy: 0.9247 - val_loss: 0.3239 - val_accuracy: 0.9211\n",
      "Epoch 21/100\n",
      "1/1 [==============================] - 1s 933ms/step - loss: 0.2796 - accuracy: 0.9247 - val_loss: 0.3233 - val_accuracy: 0.9211\n",
      "Epoch 22/100\n",
      "1/1 [==============================] - 1s 995ms/step - loss: 0.2796 - accuracy: 0.9247 - val_loss: 0.3228 - val_accuracy: 0.9211\n",
      "Epoch 23/100\n",
      "1/1 [==============================] - 1s 922ms/step - loss: 0.2795 - accuracy: 0.9247 - val_loss: 0.3224 - val_accuracy: 0.9210\n",
      "Epoch 24/100\n",
      "1/1 [==============================] - 1s 857ms/step - loss: 0.2794 - accuracy: 0.9247 - val_loss: 0.3219 - val_accuracy: 0.9211\n",
      "Epoch 25/100\n",
      "1/1 [==============================] - 1s 932ms/step - loss: 0.2794 - accuracy: 0.9247 - val_loss: 0.3215 - val_accuracy: 0.9212\n",
      "Epoch 26/100\n",
      "1/1 [==============================] - 1s 948ms/step - loss: 0.2793 - accuracy: 0.9248 - val_loss: 0.3211 - val_accuracy: 0.9210\n",
      "Epoch 27/100\n",
      "1/1 [==============================] - 1s 949ms/step - loss: 0.2793 - accuracy: 0.9248 - val_loss: 0.3207 - val_accuracy: 0.9210\n",
      "Epoch 28/100\n",
      "1/1 [==============================] - 1s 905ms/step - loss: 0.2792 - accuracy: 0.9248 - val_loss: 0.3203 - val_accuracy: 0.9209\n",
      "Epoch 29/100\n",
      "1/1 [==============================] - 1s 919ms/step - loss: 0.2792 - accuracy: 0.9249 - val_loss: 0.3199 - val_accuracy: 0.9209\n",
      "Epoch 30/100\n",
      "1/1 [==============================] - 1s 889ms/step - loss: 0.2791 - accuracy: 0.9249 - val_loss: 0.3195 - val_accuracy: 0.9209\n",
      "Epoch 31/100\n",
      "1/1 [==============================] - 1s 870ms/step - loss: 0.2790 - accuracy: 0.9249 - val_loss: 0.3192 - val_accuracy: 0.9209\n",
      "Epoch 32/100\n",
      "1/1 [==============================] - 1s 923ms/step - loss: 0.2790 - accuracy: 0.9249 - val_loss: 0.3188 - val_accuracy: 0.9209\n",
      "Epoch 33/100\n",
      "1/1 [==============================] - 1s 882ms/step - loss: 0.2789 - accuracy: 0.9249 - val_loss: 0.3185 - val_accuracy: 0.9209\n",
      "Epoch 34/100\n",
      "1/1 [==============================] - 1s 889ms/step - loss: 0.2789 - accuracy: 0.9249 - val_loss: 0.3182 - val_accuracy: 0.9209\n",
      "Epoch 35/100\n",
      "1/1 [==============================] - 1s 932ms/step - loss: 0.2788 - accuracy: 0.9250 - val_loss: 0.3179 - val_accuracy: 0.9210\n",
      "Epoch 36/100\n",
      "1/1 [==============================] - 1s 879ms/step - loss: 0.2788 - accuracy: 0.9250 - val_loss: 0.3176 - val_accuracy: 0.9210\n",
      "Epoch 37/100\n",
      "1/1 [==============================] - 1s 847ms/step - loss: 0.2787 - accuracy: 0.9250 - val_loss: 0.3173 - val_accuracy: 0.9210\n",
      "Epoch 38/100\n",
      "1/1 [==============================] - 1s 912ms/step - loss: 0.2787 - accuracy: 0.9250 - val_loss: 0.3170 - val_accuracy: 0.9210\n",
      "Epoch 39/100\n",
      "1/1 [==============================] - 1s 917ms/step - loss: 0.2786 - accuracy: 0.9250 - val_loss: 0.3168 - val_accuracy: 0.9210\n",
      "Epoch 40/100\n",
      "1/1 [==============================] - 1s 879ms/step - loss: 0.2785 - accuracy: 0.9250 - val_loss: 0.3165 - val_accuracy: 0.9210\n",
      "Epoch 41/100\n",
      "1/1 [==============================] - 1s 838ms/step - loss: 0.2785 - accuracy: 0.9250 - val_loss: 0.3162 - val_accuracy: 0.9210\n",
      "Epoch 42/100\n",
      "1/1 [==============================] - 1s 925ms/step - loss: 0.2784 - accuracy: 0.9250 - val_loss: 0.3160 - val_accuracy: 0.9210\n",
      "Epoch 43/100\n",
      "1/1 [==============================] - 1s 868ms/step - loss: 0.2784 - accuracy: 0.9251 - val_loss: 0.3157 - val_accuracy: 0.9210\n",
      "Epoch 44/100\n",
      "1/1 [==============================] - 1s 874ms/step - loss: 0.2783 - accuracy: 0.9251 - val_loss: 0.3155 - val_accuracy: 0.9210\n",
      "Epoch 45/100\n",
      "1/1 [==============================] - 1s 933ms/step - loss: 0.2783 - accuracy: 0.9251 - val_loss: 0.3153 - val_accuracy: 0.9210\n",
      "Epoch 46/100\n",
      "1/1 [==============================] - 1s 796ms/step - loss: 0.2782 - accuracy: 0.9251 - val_loss: 0.3150 - val_accuracy: 0.9210\n",
      "Epoch 47/100\n",
      "1/1 [==============================] - 1s 865ms/step - loss: 0.2782 - accuracy: 0.9251 - val_loss: 0.3148 - val_accuracy: 0.9210\n",
      "Epoch 48/100\n",
      "1/1 [==============================] - 1s 889ms/step - loss: 0.2781 - accuracy: 0.9251 - val_loss: 0.3146 - val_accuracy: 0.9210\n",
      "Epoch 49/100\n",
      "1/1 [==============================] - 1s 903ms/step - loss: 0.2781 - accuracy: 0.9251 - val_loss: 0.3144 - val_accuracy: 0.9211\n",
      "Epoch 50/100\n",
      "1/1 [==============================] - 1s 926ms/step - loss: 0.2780 - accuracy: 0.9252 - val_loss: 0.3142 - val_accuracy: 0.9212\n",
      "Epoch 51/100\n",
      "1/1 [==============================] - 1s 967ms/step - loss: 0.2780 - accuracy: 0.9252 - val_loss: 0.3140 - val_accuracy: 0.9212\n",
      "Epoch 52/100\n",
      "1/1 [==============================] - 1s 949ms/step - loss: 0.2779 - accuracy: 0.9252 - val_loss: 0.3138 - val_accuracy: 0.9212\n",
      "Epoch 53/100\n",
      "1/1 [==============================] - 1s 941ms/step - loss: 0.2779 - accuracy: 0.9252 - val_loss: 0.3136 - val_accuracy: 0.9212\n",
      "Epoch 54/100\n",
      "1/1 [==============================] - 1s 970ms/step - loss: 0.2778 - accuracy: 0.9253 - val_loss: 0.3134 - val_accuracy: 0.9212\n",
      "Epoch 55/100\n",
      "1/1 [==============================] - 1s 970ms/step - loss: 0.2778 - accuracy: 0.9252 - val_loss: 0.3132 - val_accuracy: 0.9212\n",
      "Epoch 56/100\n",
      "1/1 [==============================] - 1s 875ms/step - loss: 0.2777 - accuracy: 0.9252 - val_loss: 0.3130 - val_accuracy: 0.9212\n",
      "Epoch 57/100\n",
      "1/1 [==============================] - 1s 878ms/step - loss: 0.2777 - accuracy: 0.9252 - val_loss: 0.3128 - val_accuracy: 0.9212\n",
      "Epoch 58/100\n",
      "1/1 [==============================] - 1s 926ms/step - loss: 0.2776 - accuracy: 0.9252 - val_loss: 0.3127 - val_accuracy: 0.9212\n",
      "Epoch 59/100\n",
      "1/1 [==============================] - 1s 936ms/step - loss: 0.2776 - accuracy: 0.9253 - val_loss: 0.3125 - val_accuracy: 0.9212\n",
      "Epoch 60/100\n",
      "1/1 [==============================] - 1s 961ms/step - loss: 0.2775 - accuracy: 0.9254 - val_loss: 0.3123 - val_accuracy: 0.9212\n",
      "Epoch 61/100\n",
      "1/1 [==============================] - 1s 899ms/step - loss: 0.2775 - accuracy: 0.9254 - val_loss: 0.3121 - val_accuracy: 0.9212\n",
      "Epoch 62/100\n",
      "1/1 [==============================] - 1s 851ms/step - loss: 0.2774 - accuracy: 0.9254 - val_loss: 0.3120 - val_accuracy: 0.9212\n",
      "Epoch 63/100\n",
      "1/1 [==============================] - 1s 891ms/step - loss: 0.2774 - accuracy: 0.9254 - val_loss: 0.3118 - val_accuracy: 0.9213\n",
      "Epoch 64/100\n",
      "1/1 [==============================] - 1s 966ms/step - loss: 0.2773 - accuracy: 0.9254 - val_loss: 0.3117 - val_accuracy: 0.9213\n",
      "Epoch 65/100\n",
      "1/1 [==============================] - 1s 925ms/step - loss: 0.2773 - accuracy: 0.9254 - val_loss: 0.3115 - val_accuracy: 0.9212\n",
      "Epoch 66/100\n",
      "1/1 [==============================] - 1s 940ms/step - loss: 0.2772 - accuracy: 0.9255 - val_loss: 0.3114 - val_accuracy: 0.9212\n",
      "Epoch 67/100\n",
      "1/1 [==============================] - 1s 893ms/step - loss: 0.2772 - accuracy: 0.9255 - val_loss: 0.3112 - val_accuracy: 0.9212\n",
      "Epoch 68/100\n",
      "1/1 [==============================] - 1s 985ms/step - loss: 0.2771 - accuracy: 0.9256 - val_loss: 0.3111 - val_accuracy: 0.9211\n",
      "Epoch 69/100\n",
      "1/1 [==============================] - 1s 906ms/step - loss: 0.2771 - accuracy: 0.9255 - val_loss: 0.3109 - val_accuracy: 0.9211\n",
      "Epoch 70/100\n",
      "1/1 [==============================] - 1s 920ms/step - loss: 0.2770 - accuracy: 0.9255 - val_loss: 0.3108 - val_accuracy: 0.9210\n",
      "Epoch 71/100\n",
      "1/1 [==============================] - 1s 916ms/step - loss: 0.2770 - accuracy: 0.9255 - val_loss: 0.3106 - val_accuracy: 0.9210\n",
      "Epoch 72/100\n",
      "1/1 [==============================] - 1s 858ms/step - loss: 0.2769 - accuracy: 0.9256 - val_loss: 0.3105 - val_accuracy: 0.9211\n",
      "Epoch 73/100\n",
      "1/1 [==============================] - 1s 911ms/step - loss: 0.2769 - accuracy: 0.9256 - val_loss: 0.3104 - val_accuracy: 0.9211\n",
      "Epoch 74/100\n",
      "1/1 [==============================] - 1s 865ms/step - loss: 0.2768 - accuracy: 0.9256 - val_loss: 0.3102 - val_accuracy: 0.9211\n",
      "Epoch 75/100\n",
      "1/1 [==============================] - 1s 910ms/step - loss: 0.2768 - accuracy: 0.9256 - val_loss: 0.3101 - val_accuracy: 0.9212\n",
      "Epoch 76/100\n",
      "1/1 [==============================] - 1s 861ms/step - loss: 0.2768 - accuracy: 0.9257 - val_loss: 0.3100 - val_accuracy: 0.9212\n",
      "Epoch 77/100\n",
      "1/1 [==============================] - 1s 881ms/step - loss: 0.2767 - accuracy: 0.9257 - val_loss: 0.3098 - val_accuracy: 0.9212\n",
      "Epoch 78/100\n",
      "1/1 [==============================] - 1s 911ms/step - loss: 0.2767 - accuracy: 0.9256 - val_loss: 0.3097 - val_accuracy: 0.9212\n",
      "Epoch 79/100\n",
      "1/1 [==============================] - 1s 878ms/step - loss: 0.2766 - accuracy: 0.9257 - val_loss: 0.3096 - val_accuracy: 0.9212\n",
      "Epoch 80/100\n",
      "1/1 [==============================] - 1s 872ms/step - loss: 0.2766 - accuracy: 0.9257 - val_loss: 0.3095 - val_accuracy: 0.9213\n",
      "Epoch 81/100\n",
      "1/1 [==============================] - 1s 898ms/step - loss: 0.2765 - accuracy: 0.9256 - val_loss: 0.3093 - val_accuracy: 0.9214\n",
      "Epoch 82/100\n",
      "1/1 [==============================] - 1s 944ms/step - loss: 0.2765 - accuracy: 0.9257 - val_loss: 0.3092 - val_accuracy: 0.9214\n",
      "Epoch 83/100\n",
      "1/1 [==============================] - 1s 893ms/step - loss: 0.2764 - accuracy: 0.9257 - val_loss: 0.3091 - val_accuracy: 0.9214\n",
      "Epoch 84/100\n",
      "1/1 [==============================] - 1s 862ms/step - loss: 0.2764 - accuracy: 0.9257 - val_loss: 0.3090 - val_accuracy: 0.9214\n",
      "Epoch 85/100\n",
      "1/1 [==============================] - 1s 958ms/step - loss: 0.2764 - accuracy: 0.9257 - val_loss: 0.3089 - val_accuracy: 0.9214\n",
      "Epoch 86/100\n",
      "1/1 [==============================] - 1s 962ms/step - loss: 0.2763 - accuracy: 0.9257 - val_loss: 0.3088 - val_accuracy: 0.9216\n",
      "Epoch 87/100\n",
      "1/1 [==============================] - 1s 868ms/step - loss: 0.2763 - accuracy: 0.9257 - val_loss: 0.3087 - val_accuracy: 0.9217\n",
      "Epoch 88/100\n",
      "1/1 [==============================] - 1s 945ms/step - loss: 0.2762 - accuracy: 0.9257 - val_loss: 0.3085 - val_accuracy: 0.9216\n",
      "Epoch 89/100\n",
      "1/1 [==============================] - 1s 835ms/step - loss: 0.2762 - accuracy: 0.9257 - val_loss: 0.3084 - val_accuracy: 0.9216\n",
      "Epoch 90/100\n",
      "1/1 [==============================] - 1s 908ms/step - loss: 0.2761 - accuracy: 0.9257 - val_loss: 0.3083 - val_accuracy: 0.9216\n",
      "Epoch 91/100\n",
      "1/1 [==============================] - 1s 880ms/step - loss: 0.2761 - accuracy: 0.9257 - val_loss: 0.3082 - val_accuracy: 0.9216\n",
      "Epoch 92/100\n",
      "1/1 [==============================] - 1s 924ms/step - loss: 0.2761 - accuracy: 0.9257 - val_loss: 0.3081 - val_accuracy: 0.9216\n",
      "Epoch 93/100\n",
      "1/1 [==============================] - 1s 902ms/step - loss: 0.2760 - accuracy: 0.9257 - val_loss: 0.3080 - val_accuracy: 0.9216\n",
      "Epoch 94/100\n",
      "1/1 [==============================] - 1s 933ms/step - loss: 0.2760 - accuracy: 0.9257 - val_loss: 0.3079 - val_accuracy: 0.9216\n",
      "Epoch 95/100\n",
      "1/1 [==============================] - 1s 970ms/step - loss: 0.2759 - accuracy: 0.9257 - val_loss: 0.3078 - val_accuracy: 0.9216\n",
      "Epoch 96/100\n",
      "1/1 [==============================] - 1s 904ms/step - loss: 0.2759 - accuracy: 0.9257 - val_loss: 0.3077 - val_accuracy: 0.9217\n",
      "Epoch 97/100\n",
      "1/1 [==============================] - 1s 838ms/step - loss: 0.2758 - accuracy: 0.9257 - val_loss: 0.3076 - val_accuracy: 0.9218\n",
      "Epoch 98/100\n",
      "1/1 [==============================] - 1s 947ms/step - loss: 0.2758 - accuracy: 0.9257 - val_loss: 0.3075 - val_accuracy: 0.9218\n",
      "Epoch 99/100\n",
      "1/1 [==============================] - 1s 925ms/step - loss: 0.2758 - accuracy: 0.9257 - val_loss: 0.3074 - val_accuracy: 0.9219\n",
      "Epoch 100/100\n",
      "1/1 [==============================] - 1s 1s/step - loss: 0.2757 - accuracy: 0.9257 - val_loss: 0.3074 - val_accuracy: 0.9219\n"
     ]
    },
    {
     "data": {
      "text/plain": [
       "<keras.callbacks.History at 0x1fa2e8fcbb0>"
      ]
     },
     "execution_count": 46,
     "metadata": {},
     "output_type": "execute_result"
    }
   ],
   "source": [
    "model.fit(trainX,trainY,validation_data=(testX,testY),\n",
    "          epochs=100,batch_size=trainX.shape[0])\n",
    "#all the data is given\n",
    "#loss&acc are belong to train data \n",
    "#val_loss&val_acc belongs to test data"
   ]
  },
  {
   "cell_type": "code",
   "execution_count": 47,
   "metadata": {
    "ExecuteTime": {
     "end_time": "2023-01-17T21:28:59.999805Z",
     "start_time": "2023-01-17T21:27:28.478696Z"
    }
   },
   "outputs": [
    {
     "name": "stdout",
     "output_type": "stream",
     "text": [
      "Epoch 1/10\n",
      "1500/1500 [==============================] - 9s 6ms/step - loss: 0.2944 - accuracy: 0.9166 - val_loss: 0.3386 - val_accuracy: 0.9209\n",
      "Epoch 2/10\n",
      "1500/1500 [==============================] - 10s 6ms/step - loss: 0.2929 - accuracy: 0.9170 - val_loss: 0.3760 - val_accuracy: 0.9200\n",
      "Epoch 3/10\n",
      "1500/1500 [==============================] - 10s 7ms/step - loss: 0.2901 - accuracy: 0.9179 - val_loss: 0.4109 - val_accuracy: 0.9201\n",
      "Epoch 4/10\n",
      "1500/1500 [==============================] - 10s 7ms/step - loss: 0.2894 - accuracy: 0.9183 - val_loss: 0.3678 - val_accuracy: 0.9187\n",
      "Epoch 5/10\n",
      "1500/1500 [==============================] - 8s 5ms/step - loss: 0.2891 - accuracy: 0.9175 - val_loss: 0.3461 - val_accuracy: 0.9203\n",
      "Epoch 6/10\n",
      "1500/1500 [==============================] - 8s 5ms/step - loss: 0.2880 - accuracy: 0.9183 - val_loss: 0.3874 - val_accuracy: 0.9201\n",
      "Epoch 7/10\n",
      "1500/1500 [==============================] - 10s 7ms/step - loss: 0.2857 - accuracy: 0.9187 - val_loss: 0.3754 - val_accuracy: 0.9215\n",
      "Epoch 8/10\n",
      "1500/1500 [==============================] - 12s 8ms/step - loss: 0.2871 - accuracy: 0.9180 - val_loss: 0.3909 - val_accuracy: 0.9198\n",
      "Epoch 9/10\n",
      "1500/1500 [==============================] - 8s 5ms/step - loss: 0.2827 - accuracy: 0.9205 - val_loss: 0.3559 - val_accuracy: 0.9220\n",
      "Epoch 10/10\n",
      "1500/1500 [==============================] - 8s 5ms/step - loss: 0.2852 - accuracy: 0.9193 - val_loss: 0.3845 - val_accuracy: 0.9211\n"
     ]
    },
    {
     "data": {
      "text/plain": [
       "<keras.callbacks.History at 0x1fa2e9a7ac0>"
      ]
     },
     "execution_count": 47,
     "metadata": {},
     "output_type": "execute_result"
    }
   ],
   "source": [
    "#using batch size = 40\n",
    "model.fit(trainX,trainY,validation_data=(testX,testY),epochs=10,batch_size=40)\n",
    "#40 records at a time\n",
    "#for getting beter accuracy we use batch size"
   ]
  },
  {
   "cell_type": "markdown",
   "metadata": {
    "colab_type": "text",
    "id": "nACcpZ6oMd6z",
    "slideshow": {
     "slide_type": "slide"
    }
   },
   "source": [
    "# NEURAL NETWORKS"
   ]
  },
  {
   "cell_type": "code",
   "execution_count": 59,
   "metadata": {
    "ExecuteTime": {
     "end_time": "2023-01-17T21:41:01.953458Z",
     "start_time": "2023-01-17T21:39:45.925785Z"
    }
   },
   "outputs": [
    {
     "name": "stdout",
     "output_type": "stream",
     "text": [
      "Collecting ann_visualizer\n",
      "  Downloading ann_visualizer-2.5.tar.gz (4.7 kB)\n",
      "  Preparing metadata (setup.py): started\n",
      "  Preparing metadata (setup.py): finished with status 'done'\n",
      "Building wheels for collected packages: ann_visualizer\n",
      "  Building wheel for ann_visualizer (setup.py): started\n",
      "  Building wheel for ann_visualizer (setup.py): finished with status 'done'\n",
      "  Created wheel for ann_visualizer: filename=ann_visualizer-2.5-py3-none-any.whl size=4181 sha256=dddd115762ab98c81b4ad5f39466787a9275d88fdfe5efad812c1ba46753a16f\n",
      "  Stored in directory: c:\\users\\priyanka\\appdata\\local\\pip\\cache\\wheels\\d3\\3c\\ab\\2ffe5e9f68c95fcee1eb80deadd2316e8311ce1b7e5fabfe9c\n",
      "Successfully built ann_visualizer\n",
      "Installing collected packages: ann_visualizer\n",
      "Successfully installed ann_visualizer-2.5\n",
      "Collecting graphviz\n",
      "  Downloading graphviz-0.20.1-py3-none-any.whl (47 kB)\n",
      "     -------------------------------------- 47.0/47.0 kB 465.8 kB/s eta 0:00:00\n",
      "Installing collected packages: graphviz\n",
      "Successfully installed graphviz-0.20.1\n"
     ]
    }
   ],
   "source": [
    "!pip install ann_visualizer\n",
    "!pip install graphviz"
   ]
  },
  {
   "cell_type": "code",
   "execution_count": 48,
   "metadata": {
    "ExecuteTime": {
     "end_time": "2023-01-17T21:29:07.922198Z",
     "start_time": "2023-01-17T21:29:07.840800Z"
    },
    "colab": {},
    "colab_type": "code",
    "id": "9h6GBSH6Md61"
   },
   "outputs": [],
   "source": [
    "#Initialize Sequential model\n",
    "model = tf.keras.models.Sequential()\n",
    "#Reshape data from 2D to 1D -> 28x28 to 784\n",
    "model.add(tf.keras.layers.Reshape((784,),input_shape=(28,28,)))\n",
    "#Normalize the data\n",
    "model.add(tf.keras.layers.BatchNormalization())"
   ]
  },
  {
   "cell_type": "markdown",
   "metadata": {
    "colab_type": "text",
    "id": "imGSX5XjMd66",
    "slideshow": {
     "slide_type": "slide"
    }
   },
   "source": [
    "# ADDING HIDDEN LAYERS"
   ]
  },
  {
   "cell_type": "code",
   "execution_count": 49,
   "metadata": {
    "ExecuteTime": {
     "end_time": "2023-01-17T21:29:10.003182Z",
     "start_time": "2023-01-17T21:29:09.757974Z"
    },
    "colab": {},
    "colab_type": "code",
    "id": "Oj8TnaTxMd68",
    "slideshow": {
     "slide_type": "fragment"
    }
   },
   "outputs": [],
   "source": [
    "#Add 1st hidden layer\n",
    "model.add(tf.keras.layers.Dense(200, activation='relu'))"
   ]
  },
  {
   "cell_type": "code",
   "execution_count": 50,
   "metadata": {
    "ExecuteTime": {
     "end_time": "2023-01-17T21:29:11.436385Z",
     "start_time": "2023-01-17T21:29:11.369380Z"
    },
    "colab": {},
    "colab_type": "code",
    "id": "BQvERJeKMd7A",
    "slideshow": {
     "slide_type": "fragment"
    }
   },
   "outputs": [],
   "source": [
    "#Add 2nd hidden layer\n",
    "model.add(tf.keras.layers.Dense(100, activation='relu'))\n",
    "model.add(tf.keras.layers.BatchNormalization())"
   ]
  },
  {
   "cell_type": "code",
   "execution_count": 51,
   "metadata": {
    "ExecuteTime": {
     "end_time": "2023-01-17T21:29:13.720504Z",
     "start_time": "2023-01-17T21:29:13.628564Z"
    },
    "colab": {},
    "colab_type": "code",
    "id": "pwcz87-MMd7E",
    "slideshow": {
     "slide_type": "fragment"
    }
   },
   "outputs": [],
   "source": [
    "#Add 3rd hidden layer\n",
    "model.add(tf.keras.layers.Dense(60, activation='relu'))\n",
    "model.add(tf.keras.layers.BatchNormalization())"
   ]
  },
  {
   "cell_type": "code",
   "execution_count": 52,
   "metadata": {
    "ExecuteTime": {
     "end_time": "2023-01-17T21:29:15.402732Z",
     "start_time": "2023-01-17T21:29:15.364625Z"
    },
    "colab": {},
    "colab_type": "code",
    "id": "C4j9Cm1IMd7J",
    "slideshow": {
     "slide_type": "fragment"
    }
   },
   "outputs": [],
   "source": [
    "#Add 4th hidden layer\n",
    "model.add(tf.keras.layers.Dense(30, activation='relu'))"
   ]
  },
  {
   "cell_type": "code",
   "execution_count": 53,
   "metadata": {
    "ExecuteTime": {
     "end_time": "2023-01-17T21:29:17.419579Z",
     "start_time": "2023-01-17T21:29:17.374787Z"
    },
    "colab": {},
    "colab_type": "code",
    "id": "G05v_Zy9Md7Q",
    "slideshow": {
     "slide_type": "fragment"
    }
   },
   "outputs": [],
   "source": [
    "#Add OUTPUT layer\n",
    "model.add(tf.keras.layers.Dense(10, activation='softmax'))"
   ]
  },
  {
   "cell_type": "markdown",
   "metadata": {
    "colab_type": "text",
    "id": "pYNxSLydMd7U",
    "slideshow": {
     "slide_type": "slide"
    }
   },
   "source": [
    "## model building"
   ]
  },
  {
   "cell_type": "code",
   "execution_count": 54,
   "metadata": {
    "ExecuteTime": {
     "end_time": "2023-01-17T21:29:19.313692Z",
     "start_time": "2023-01-17T21:29:19.288092Z"
    },
    "colab": {},
    "colab_type": "code",
    "id": "FJWmzZ2vMd7W",
    "slideshow": {
     "slide_type": "fragment"
    }
   },
   "outputs": [
    {
     "name": "stderr",
     "output_type": "stream",
     "text": [
      "C:\\Users\\Priyanka\\anaconda3\\lib\\site-packages\\keras\\optimizers\\optimizer_v2\\gradient_descent.py:111: UserWarning: The `lr` argument is deprecated, use `learning_rate` instead.\n",
      "  super().__init__(name, **kwargs)\n"
     ]
    }
   ],
   "source": [
    "#Create optimizer with non-default learning rate\n",
    "sgd_optimizer = tf.keras.optimizers.SGD(lr=0.03, decay=0.001)\n",
    "#Compile the model\n",
    "model.compile(optimizer=sgd_optimizer, loss='categorical_crossentropy', metrics=['accuracy'])"
   ]
  },
  {
   "cell_type": "markdown",
   "metadata": {
    "colab_type": "text",
    "id": "gW7j_VfVMd7a",
    "slideshow": {
     "slide_type": "slide"
    }
   },
   "source": [
    "## Review model"
   ]
  },
  {
   "cell_type": "code",
   "execution_count": 55,
   "metadata": {
    "ExecuteTime": {
     "end_time": "2023-01-17T21:29:23.134469Z",
     "start_time": "2023-01-17T21:29:23.062266Z"
    },
    "colab": {},
    "colab_type": "code",
    "id": "ghrWVH2ZMd7b"
   },
   "outputs": [
    {
     "name": "stdout",
     "output_type": "stream",
     "text": [
      "Model: \"sequential_3\"\n",
      "_________________________________________________________________\n",
      " Layer (type)                Output Shape              Param #   \n",
      "=================================================================\n",
      " reshape_3 (Reshape)         (None, 784)               0         \n",
      "                                                                 \n",
      " batch_normalization_5 (Batc  (None, 784)              3136      \n",
      " hNormalization)                                                 \n",
      "                                                                 \n",
      " dense_7 (Dense)             (None, 200)               157000    \n",
      "                                                                 \n",
      " dense_8 (Dense)             (None, 100)               20100     \n",
      "                                                                 \n",
      " batch_normalization_6 (Batc  (None, 100)              400       \n",
      " hNormalization)                                                 \n",
      "                                                                 \n",
      " dense_9 (Dense)             (None, 60)                6060      \n",
      "                                                                 \n",
      " batch_normalization_7 (Batc  (None, 60)               240       \n",
      " hNormalization)                                                 \n",
      "                                                                 \n",
      " dense_10 (Dense)            (None, 30)                1830      \n",
      "                                                                 \n",
      " dense_11 (Dense)            (None, 10)                310       \n",
      "                                                                 \n",
      "=================================================================\n",
      "Total params: 189,076\n",
      "Trainable params: 187,188\n",
      "Non-trainable params: 1,888\n",
      "_________________________________________________________________\n"
     ]
    }
   ],
   "source": [
    "model.summary()"
   ]
  },
  {
   "cell_type": "markdown",
   "metadata": {
    "colab_type": "text",
    "id": "Lblu99B6Md7l",
    "slideshow": {
     "slide_type": "slide"
    }
   },
   "source": [
    "## Train the model"
   ]
  },
  {
   "cell_type": "code",
   "execution_count": 58,
   "metadata": {
    "ExecuteTime": {
     "end_time": "2023-01-17T21:39:35.592897Z",
     "start_time": "2023-01-17T21:38:07.121449Z"
    },
    "colab": {},
    "colab_type": "code",
    "id": "HyDVYzwxMd7m",
    "scrolled": false
   },
   "outputs": [
    {
     "name": "stdout",
     "output_type": "stream",
     "text": [
      "Epoch 1/5\n",
      "1500/1500 [==============================] - 18s 12ms/step - loss: 0.0626 - accuracy: 0.9812 - val_loss: 0.2446 - val_accuracy: 0.9637\n",
      "Epoch 2/5\n",
      "1500/1500 [==============================] - 18s 12ms/step - loss: 0.0604 - accuracy: 0.9813 - val_loss: 0.3130 - val_accuracy: 0.9648\n",
      "Epoch 3/5\n",
      "1500/1500 [==============================] - 16s 11ms/step - loss: 0.0605 - accuracy: 0.9815 - val_loss: 0.2323 - val_accuracy: 0.9650\n",
      "Epoch 4/5\n",
      "1500/1500 [==============================] - 17s 11ms/step - loss: 0.0597 - accuracy: 0.9817 - val_loss: 0.2242 - val_accuracy: 0.9641\n",
      "Epoch 5/5\n",
      "1500/1500 [==============================] - 19s 13ms/step - loss: 0.0601 - accuracy: 0.9814 - val_loss: 0.1840 - val_accuracy: 0.9633\n"
     ]
    },
    {
     "data": {
      "text/plain": [
       "<keras.callbacks.History at 0x1fa37003550>"
      ]
     },
     "execution_count": 58,
     "metadata": {},
     "output_type": "execute_result"
    }
   ],
   "source": [
    "model.fit(trainX,trainY,          \n",
    "          validation_data=(testX,testY),epochs=5,batch_size=40)"
   ]
  },
  {
   "cell_type": "markdown",
   "metadata": {},
   "source": [
    "# MODEL PREDICITIONS"
   ]
  },
  {
   "cell_type": "code",
   "execution_count": 70,
   "metadata": {
    "ExecuteTime": {
     "end_time": "2023-01-18T06:55:35.636399Z",
     "start_time": "2023-01-18T06:55:33.539713Z"
    }
   },
   "outputs": [],
   "source": [
    "#Save the model in current directory\n",
    "model.save('mnist_dnn_v1.h5')"
   ]
  },
  {
   "cell_type": "code",
   "execution_count": 71,
   "metadata": {
    "ExecuteTime": {
     "end_time": "2023-01-18T06:55:45.504650Z",
     "start_time": "2023-01-18T06:55:45.062770Z"
    }
   },
   "outputs": [],
   "source": [
    "#Load the model in memory\n",
    "model = tf.keras.models.load_model('mnist_dnn_v1.h5')"
   ]
  },
  {
   "cell_type": "code",
   "execution_count": 76,
   "metadata": {
    "ExecuteTime": {
     "end_time": "2023-01-18T06:56:46.642166Z",
     "start_time": "2023-01-18T06:56:46.609374Z"
    }
   },
   "outputs": [
    {
     "name": "stdout",
     "output_type": "stream",
     "text": [
      "Model: \"sequential_4\"\n",
      "_________________________________________________________________\n",
      " Layer (type)                Output Shape              Param #   \n",
      "=================================================================\n",
      " dense_12 (Dense)            (None, 128)               100480    \n",
      "                                                                 \n",
      " dense_13 (Dense)            (None, 10)                1290      \n",
      "                                                                 \n",
      "=================================================================\n",
      "Total params: 101,770\n",
      "Trainable params: 101,770\n",
      "Non-trainable params: 0\n",
      "_________________________________________________________________\n"
     ]
    }
   ],
   "source": [
    "#Review the model (optional)\n",
    "model.summary()"
   ]
  },
  {
   "cell_type": "code",
   "execution_count": 89,
   "metadata": {
    "ExecuteTime": {
     "end_time": "2023-01-18T07:00:12.434595Z",
     "start_time": "2023-01-18T07:00:12.413037Z"
    }
   },
   "outputs": [
    {
     "data": {
      "text/plain": [
       "<KerasTensor: shape=(None, 784) dtype=float32 (created by layer 'dense_16_input')>"
      ]
     },
     "execution_count": 89,
     "metadata": {},
     "output_type": "execute_result"
    }
   ],
   "source": [
    "#What should be the shape of model input\n",
    "model.input"
   ]
  },
  {
   "cell_type": "code",
   "execution_count": 74,
   "metadata": {
    "ExecuteTime": {
     "end_time": "2023-01-18T06:56:24.171733Z",
     "start_time": "2023-01-18T06:56:24.164281Z"
    },
    "scrolled": true
   },
   "outputs": [
    {
     "data": {
      "text/plain": [
       "(28, 28)"
      ]
     },
     "execution_count": 74,
     "metadata": {},
     "output_type": "execute_result"
    }
   ],
   "source": [
    "#Shape of each example in test dataset\n",
    "testX[0].shape"
   ]
  },
  {
   "cell_type": "code",
   "execution_count": 78,
   "metadata": {
    "ExecuteTime": {
     "end_time": "2023-01-18T06:57:09.703918Z",
     "start_time": "2023-01-18T06:57:09.690214Z"
    }
   },
   "outputs": [
    {
     "data": {
      "text/plain": [
       "(1, 28, 28)"
      ]
     },
     "execution_count": 78,
     "metadata": {},
     "output_type": "execute_result"
    }
   ],
   "source": [
    "#Make it 3 dimension data\n",
    "import numpy as np\n",
    "input_data = np.expand_dims(testX[0], axis=0)\n",
    "input_data.shape"
   ]
  },
  {
   "cell_type": "code",
   "execution_count": 94,
   "metadata": {
    "ExecuteTime": {
     "end_time": "2023-01-18T07:04:15.115961Z",
     "start_time": "2023-01-18T07:04:15.104888Z"
    }
   },
   "outputs": [],
   "source": [
    "input_data = input_data.reshape(-1, 784)"
   ]
  },
  {
   "cell_type": "code",
   "execution_count": 95,
   "metadata": {
    "ExecuteTime": {
     "end_time": "2023-01-18T07:04:17.434640Z",
     "start_time": "2023-01-18T07:04:17.174948Z"
    },
    "scrolled": true
   },
   "outputs": [
    {
     "name": "stdout",
     "output_type": "stream",
     "text": [
      "1/1 [==============================] - 0s 144ms/step\n"
     ]
    },
    {
     "data": {
      "text/plain": [
       "array([[6.6239342e-02, 0.0000000e+00, 0.0000000e+00, 1.9194131e-09,\n",
       "        1.0153263e-11, 1.4803819e-23, 0.0000000e+00, 2.3395722e-01,\n",
       "        0.0000000e+00, 6.9980341e-01]], dtype=float32)"
      ]
     },
     "execution_count": 95,
     "metadata": {},
     "output_type": "execute_result"
    }
   ],
   "source": [
    "#Model prediction\n",
    "pred = model.predict(input_data)\n",
    "pred"
   ]
  },
  {
   "cell_type": "code",
   "execution_count": 96,
   "metadata": {
    "ExecuteTime": {
     "end_time": "2023-01-18T07:04:34.494659Z",
     "start_time": "2023-01-18T07:04:34.481210Z"
    }
   },
   "outputs": [
    {
     "data": {
      "text/plain": [
       "(1, 10)"
      ]
     },
     "execution_count": 96,
     "metadata": {},
     "output_type": "execute_result"
    }
   ],
   "source": [
    "#Model prediction shape\n",
    "pred.shape"
   ]
  },
  {
   "cell_type": "code",
   "execution_count": 97,
   "metadata": {
    "ExecuteTime": {
     "end_time": "2023-01-18T07:04:41.053764Z",
     "start_time": "2023-01-18T07:04:41.032377Z"
    }
   },
   "outputs": [
    {
     "data": {
      "text/plain": [
       "array([6.6239342e-02, 0.0000000e+00, 0.0000000e+00, 1.9194131e-09,\n",
       "       1.0153263e-11, 1.4803819e-23, 0.0000000e+00, 2.3395722e-01,\n",
       "       0.0000000e+00, 6.9980341e-01], dtype=float32)"
      ]
     },
     "execution_count": 97,
     "metadata": {},
     "output_type": "execute_result"
    }
   ],
   "source": [
    "#Model prediction for first example\n",
    "pred[0]"
   ]
  },
  {
   "cell_type": "code",
   "execution_count": 98,
   "metadata": {
    "ExecuteTime": {
     "end_time": "2023-01-18T07:04:48.087474Z",
     "start_time": "2023-01-18T07:04:48.050824Z"
    }
   },
   "outputs": [
    {
     "data": {
      "text/plain": [
       "9"
      ]
     },
     "execution_count": 98,
     "metadata": {},
     "output_type": "execute_result"
    }
   ],
   "source": [
    "#Find the index of highest probability value\n",
    "np.argmax(pred[0])"
   ]
  },
  {
   "cell_type": "code",
   "execution_count": 99,
   "metadata": {
    "ExecuteTime": {
     "end_time": "2023-01-18T07:04:55.467100Z",
     "start_time": "2023-01-18T07:04:55.458909Z"
    }
   },
   "outputs": [
    {
     "data": {
      "text/plain": [
       "7"
      ]
     },
     "execution_count": 99,
     "metadata": {},
     "output_type": "execute_result"
    }
   ],
   "source": [
    "#Actual label\n",
    "np.argmax(testY[0])"
   ]
  },
  {
   "cell_type": "code",
   "execution_count": 118,
   "metadata": {
    "ExecuteTime": {
     "end_time": "2023-01-18T07:24:17.536855Z",
     "start_time": "2023-01-18T07:24:17.517260Z"
    }
   },
   "outputs": [
    {
     "data": {
      "text/plain": [
       "(10,)"
      ]
     },
     "execution_count": 118,
     "metadata": {},
     "output_type": "execute_result"
    }
   ],
   "source": [
    "testY[0].shape"
   ]
  }
 ],
 "metadata": {
  "colab": {
   "collapsed_sections": [],
   "name": "6. Classification_MNIST_DNN_Keras.ipynb",
   "private_outputs": true,
   "provenance": [],
   "version": "0.3.2"
  },
  "kernelspec": {
   "display_name": "Python 3 (ipykernel)",
   "language": "python",
   "name": "python3"
  },
  "language_info": {
   "codemirror_mode": {
    "name": "ipython",
    "version": 3
   },
   "file_extension": ".py",
   "mimetype": "text/x-python",
   "name": "python",
   "nbconvert_exporter": "python",
   "pygments_lexer": "ipython3",
   "version": "3.9.12"
  }
 },
 "nbformat": 4,
 "nbformat_minor": 1
}
