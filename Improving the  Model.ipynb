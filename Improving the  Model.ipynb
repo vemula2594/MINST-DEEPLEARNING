{
 "cells": [
  {
   "cell_type": "markdown",
   "metadata": {
    "id": "2FOkt_PVMd6h"
   },
   "source": [
    "#### Load tensorflow"
   ]
  },
  {
   "cell_type": "code",
   "execution_count": 1,
   "metadata": {
    "ExecuteTime": {
     "end_time": "2023-01-17T20:00:13.143840Z",
     "start_time": "2023-01-17T20:00:04.656366Z"
    },
    "id": "QknvBKm3Md6j"
   },
   "outputs": [],
   "source": [
    "import tensorflow as tf"
   ]
  },
  {
   "cell_type": "markdown",
   "metadata": {
    "id": "QHbDtQQJMd6m"
   },
   "source": [
    "#### Collect Data\n",
    "\n",
    "We will use MNIST dataset for this exercise. This dataset contains images of hand written numbers with each image being a black & white picture of size 28x28. We will download the data using tensorflow API. The dataset has 60,000 training examples and 10,000 test examples. Please note that images have already been converted to numpy arrays."
   ]
  },
  {
   "cell_type": "code",
   "execution_count": 2,
   "metadata": {
    "ExecuteTime": {
     "end_time": "2023-01-17T20:00:13.722564Z",
     "start_time": "2023-01-17T20:00:13.143840Z"
    },
    "id": "AJ6bJeCGMd6n"
   },
   "outputs": [],
   "source": [
    "#Download dataset\n",
    "(trainX, trainY),(testX, testY) = tf.keras.datasets.mnist.load_data()"
   ]
  },
  {
   "cell_type": "code",
   "execution_count": 3,
   "metadata": {
    "ExecuteTime": {
     "end_time": "2023-01-17T20:00:13.767871Z",
     "start_time": "2023-01-17T20:00:13.726742Z"
    },
    "id": "OAv--_-Spq4F"
   },
   "outputs": [
    {
     "data": {
      "text/plain": [
       "(60000, 28, 28)"
      ]
     },
     "execution_count": 3,
     "metadata": {},
     "output_type": "execute_result"
    }
   ],
   "source": [
    "#Check number of training examples and size of each example\n",
    "trainX.shape"
   ]
  },
  {
   "cell_type": "code",
   "execution_count": 4,
   "metadata": {
    "ExecuteTime": {
     "end_time": "2023-01-17T20:00:14.400002Z",
     "start_time": "2023-01-17T20:00:13.769256Z"
    },
    "id": "ecBQs14Dpaq_"
   },
   "outputs": [
    {
     "data": {
      "text/plain": [
       "array([[  0,   0,   0,   0,   0,   0,   0,   0,   0,   0,   0,   0,   0,\n",
       "          0,   0,   0,   0,   0,   0,   0,   0,   0,   0,   0,   0,   0,\n",
       "          0,   0],\n",
       "       [  0,   0,   0,   0,   0,   0,   0,   0,   0,   0,   0,   0,   0,\n",
       "          0,   0,   0,   0,   0,   0,   0,   0,   0,   0,   0,   0,   0,\n",
       "          0,   0],\n",
       "       [  0,   0,   0,   0,   0,   0,   0,   0,   0,   0,   0,   0,   0,\n",
       "          0,   0,   0,   0,   0,   0,   0,   0,   0,   0,   0,   0,   0,\n",
       "          0,   0],\n",
       "       [  0,   0,   0,   0,   0,   0,   0,   0,   0,   0,   0,   0,   0,\n",
       "          0,   0,   0,   0,   0,   0,   0,   0,   0,   0,   0,   0,   0,\n",
       "          0,   0],\n",
       "       [  0,   0,   0,   0,   0,   0,   0,   0,   0,   0,   0,   0,   0,\n",
       "          0,   0,   0,   0,   0,   0,   0,   0,   0,   0,   0,   0,   0,\n",
       "          0,   0],\n",
       "       [  0,   0,   0,   0,   0,   0,   0,   0,   0,   0,   0,   0,   3,\n",
       "         18,  18,  18, 126, 136, 175,  26, 166, 255, 247, 127,   0,   0,\n",
       "          0,   0],\n",
       "       [  0,   0,   0,   0,   0,   0,   0,   0,  30,  36,  94, 154, 170,\n",
       "        253, 253, 253, 253, 253, 225, 172, 253, 242, 195,  64,   0,   0,\n",
       "          0,   0],\n",
       "       [  0,   0,   0,   0,   0,   0,   0,  49, 238, 253, 253, 253, 253,\n",
       "        253, 253, 253, 253, 251,  93,  82,  82,  56,  39,   0,   0,   0,\n",
       "          0,   0],\n",
       "       [  0,   0,   0,   0,   0,   0,   0,  18, 219, 253, 253, 253, 253,\n",
       "        253, 198, 182, 247, 241,   0,   0,   0,   0,   0,   0,   0,   0,\n",
       "          0,   0],\n",
       "       [  0,   0,   0,   0,   0,   0,   0,   0,  80, 156, 107, 253, 253,\n",
       "        205,  11,   0,  43, 154,   0,   0,   0,   0,   0,   0,   0,   0,\n",
       "          0,   0],\n",
       "       [  0,   0,   0,   0,   0,   0,   0,   0,   0,  14,   1, 154, 253,\n",
       "         90,   0,   0,   0,   0,   0,   0,   0,   0,   0,   0,   0,   0,\n",
       "          0,   0],\n",
       "       [  0,   0,   0,   0,   0,   0,   0,   0,   0,   0,   0, 139, 253,\n",
       "        190,   2,   0,   0,   0,   0,   0,   0,   0,   0,   0,   0,   0,\n",
       "          0,   0],\n",
       "       [  0,   0,   0,   0,   0,   0,   0,   0,   0,   0,   0,  11, 190,\n",
       "        253,  70,   0,   0,   0,   0,   0,   0,   0,   0,   0,   0,   0,\n",
       "          0,   0],\n",
       "       [  0,   0,   0,   0,   0,   0,   0,   0,   0,   0,   0,   0,  35,\n",
       "        241, 225, 160, 108,   1,   0,   0,   0,   0,   0,   0,   0,   0,\n",
       "          0,   0],\n",
       "       [  0,   0,   0,   0,   0,   0,   0,   0,   0,   0,   0,   0,   0,\n",
       "         81, 240, 253, 253, 119,  25,   0,   0,   0,   0,   0,   0,   0,\n",
       "          0,   0],\n",
       "       [  0,   0,   0,   0,   0,   0,   0,   0,   0,   0,   0,   0,   0,\n",
       "          0,  45, 186, 253, 253, 150,  27,   0,   0,   0,   0,   0,   0,\n",
       "          0,   0],\n",
       "       [  0,   0,   0,   0,   0,   0,   0,   0,   0,   0,   0,   0,   0,\n",
       "          0,   0,  16,  93, 252, 253, 187,   0,   0,   0,   0,   0,   0,\n",
       "          0,   0],\n",
       "       [  0,   0,   0,   0,   0,   0,   0,   0,   0,   0,   0,   0,   0,\n",
       "          0,   0,   0,   0, 249, 253, 249,  64,   0,   0,   0,   0,   0,\n",
       "          0,   0],\n",
       "       [  0,   0,   0,   0,   0,   0,   0,   0,   0,   0,   0,   0,   0,\n",
       "          0,  46, 130, 183, 253, 253, 207,   2,   0,   0,   0,   0,   0,\n",
       "          0,   0],\n",
       "       [  0,   0,   0,   0,   0,   0,   0,   0,   0,   0,   0,   0,  39,\n",
       "        148, 229, 253, 253, 253, 250, 182,   0,   0,   0,   0,   0,   0,\n",
       "          0,   0],\n",
       "       [  0,   0,   0,   0,   0,   0,   0,   0,   0,   0,  24, 114, 221,\n",
       "        253, 253, 253, 253, 201,  78,   0,   0,   0,   0,   0,   0,   0,\n",
       "          0,   0],\n",
       "       [  0,   0,   0,   0,   0,   0,   0,   0,  23,  66, 213, 253, 253,\n",
       "        253, 253, 198,  81,   2,   0,   0,   0,   0,   0,   0,   0,   0,\n",
       "          0,   0],\n",
       "       [  0,   0,   0,   0,   0,   0,  18, 171, 219, 253, 253, 253, 253,\n",
       "        195,  80,   9,   0,   0,   0,   0,   0,   0,   0,   0,   0,   0,\n",
       "          0,   0],\n",
       "       [  0,   0,   0,   0,  55, 172, 226, 253, 253, 253, 253, 244, 133,\n",
       "         11,   0,   0,   0,   0,   0,   0,   0,   0,   0,   0,   0,   0,\n",
       "          0,   0],\n",
       "       [  0,   0,   0,   0, 136, 253, 253, 253, 212, 135, 132,  16,   0,\n",
       "          0,   0,   0,   0,   0,   0,   0,   0,   0,   0,   0,   0,   0,\n",
       "          0,   0],\n",
       "       [  0,   0,   0,   0,   0,   0,   0,   0,   0,   0,   0,   0,   0,\n",
       "          0,   0,   0,   0,   0,   0,   0,   0,   0,   0,   0,   0,   0,\n",
       "          0,   0],\n",
       "       [  0,   0,   0,   0,   0,   0,   0,   0,   0,   0,   0,   0,   0,\n",
       "          0,   0,   0,   0,   0,   0,   0,   0,   0,   0,   0,   0,   0,\n",
       "          0,   0],\n",
       "       [  0,   0,   0,   0,   0,   0,   0,   0,   0,   0,   0,   0,   0,\n",
       "          0,   0,   0,   0,   0,   0,   0,   0,   0,   0,   0,   0,   0,\n",
       "          0,   0]], dtype=uint8)"
      ]
     },
     "execution_count": 4,
     "metadata": {},
     "output_type": "execute_result"
    }
   ],
   "source": [
    "trainX[0]"
   ]
  },
  {
   "cell_type": "code",
   "execution_count": 5,
   "metadata": {
    "ExecuteTime": {
     "end_time": "2023-01-17T20:00:14.982684Z",
     "start_time": "2023-01-17T20:00:14.412153Z"
    },
    "id": "mWBOngBwpy2D"
   },
   "outputs": [
    {
     "data": {
      "text/plain": [
       "(10000, 28, 28)"
      ]
     },
     "execution_count": 5,
     "metadata": {},
     "output_type": "execute_result"
    }
   ],
   "source": [
    "#Check number of test examples and size of each example\n",
    "testX.shape"
   ]
  },
  {
   "cell_type": "markdown",
   "metadata": {
    "id": "DeCvkynAMq0J"
   },
   "source": [
    "Visualize data"
   ]
  },
  {
   "cell_type": "code",
   "execution_count": 6,
   "metadata": {
    "ExecuteTime": {
     "end_time": "2023-01-17T20:00:17.934106Z",
     "start_time": "2023-01-17T20:00:14.986361Z"
    },
    "id": "Htwd0ODmMt5d"
   },
   "outputs": [],
   "source": [
    "import matplotlib.pyplot as plt\n",
    "import numpy as np"
   ]
  },
  {
   "cell_type": "code",
   "execution_count": 7,
   "metadata": {
    "ExecuteTime": {
     "end_time": "2023-01-17T20:00:18.344645Z",
     "start_time": "2023-01-17T20:00:17.938947Z"
    },
    "id": "JcotzAiyMp1F"
   },
   "outputs": [
    {
     "data": {
      "image/png": "[encoded data removed]",
      "text/plain": [
       "<Figure size 432x288 with 1 Axes>"
      ]
     },
     "metadata": {
      "needs_background": "light"
     },
     "output_type": "display_data"
    }
   ],
   "source": [
    "img_num = np.random.randint(0, testX.shape[0]) #Get a random integer between 0 and number of examples in test dataset\n",
    "plt.imshow(testX[img_num],cmap='gray') #Show the image from test dataset\n",
    "plt.suptitle('Number: ' + str(testY[img_num]))\n",
    "plt.show()"
   ]
  },
  {
   "cell_type": "markdown",
   "metadata": {
    "id": "8rxmqpkpMd6r"
   },
   "source": [
    "#### Prepare Labels\n",
    "Convert Output label to multiple values"
   ]
  },
  {
   "cell_type": "code",
   "execution_count": 8,
   "metadata": {
    "ExecuteTime": {
     "end_time": "2023-01-17T20:00:18.358546Z",
     "start_time": "2023-01-17T20:00:18.348720Z"
    },
    "id": "EijfLL3NqABx"
   },
   "outputs": [
    {
     "data": {
      "text/plain": [
       "7"
      ]
     },
     "execution_count": 8,
     "metadata": {},
     "output_type": "execute_result"
    }
   ],
   "source": [
    "#Label for an example\n",
    "testY[0]"
   ]
  },
  {
   "cell_type": "code",
   "execution_count": 9,
   "metadata": {
    "ExecuteTime": {
     "end_time": "2023-01-17T20:00:18.531120Z",
     "start_time": "2023-01-17T20:00:18.361559Z"
    },
    "id": "Jr8yucgyMd6s"
   },
   "outputs": [],
   "source": [
    "trainY = tf.keras.utils.to_categorical(trainY, num_classes=10)\n",
    "testY = tf.keras.utils.to_categorical(testY, num_classes=10)"
   ]
  },
  {
   "cell_type": "code",
   "execution_count": 10,
   "metadata": {
    "ExecuteTime": {
     "end_time": "2023-01-17T20:00:18.672970Z",
     "start_time": "2023-01-17T20:00:18.535985Z"
    },
    "id": "RnY9Bqx0qHkM"
   },
   "outputs": [
    {
     "data": {
      "text/plain": [
       "array([0., 0., 0., 0., 0., 0., 0., 1., 0., 0.], dtype=float32)"
      ]
     },
     "execution_count": 10,
     "metadata": {},
     "output_type": "execute_result"
    }
   ],
   "source": [
    "#Label for same example after one hot encoding\n",
    "testY[0]"
   ]
  },
  {
   "cell_type": "markdown",
   "metadata": {
    "id": "nACcpZ6oMd6z"
   },
   "source": [
    "#### Build the Model V1\n",
    "Activation function 'tanh' --> Hyperbolic tangent"
   ]
  },
  {
   "cell_type": "code",
   "execution_count": 11,
   "metadata": {
    "ExecuteTime": {
     "end_time": "2023-01-17T20:00:19.007809Z",
     "start_time": "2023-01-17T20:00:18.674963Z"
    },
    "id": "9h6GBSH6Md61"
   },
   "outputs": [],
   "source": [
    "#Initialize Sequential model\n",
    "tf.keras.backend.clear_session()\n",
    "model = tf.keras.models.Sequential()\n",
    "\n",
    "#Reshape data from 2D to 1D -> 28x28 to 784\n",
    "model.add(tf.keras.layers.Reshape((784,),input_shape=(28,28,)))\n",
    "\n",
    "#Normalize the data\n",
    "model.add(tf.keras.layers.BatchNormalization())"
   ]
  },
  {
   "cell_type": "code",
   "execution_count": 12,
   "metadata": {
    "ExecuteTime": {
     "end_time": "2023-01-17T20:00:19.026856Z",
     "start_time": "2023-01-17T20:00:19.012078Z"
    },
    "id": "hLuGo9xeO_oE"
   },
   "outputs": [
    {
     "data": {
      "text/plain": [
       "<KerasTensor: shape=(None, 784) dtype=float32 (created by layer 'batch_normalization')>"
      ]
     },
     "execution_count": 12,
     "metadata": {},
     "output_type": "execute_result"
    }
   ],
   "source": [
    "model.output"
   ]
  },
  {
   "cell_type": "markdown",
   "metadata": {
    "id": "imGSX5XjMd66"
   },
   "source": [
    "Add Hidden Layers"
   ]
  },
  {
   "cell_type": "code",
   "execution_count": 13,
   "metadata": {
    "ExecuteTime": {
     "end_time": "2023-01-17T20:00:19.229699Z",
     "start_time": "2023-01-17T20:00:19.031639Z"
    },
    "id": "Oj8TnaTxMd68"
   },
   "outputs": [],
   "source": [
    "#Add 1st hidden layer\n",
    "model.add(tf.keras.layers.Dense(200, activation='tanh'))"
   ]
  },
  {
   "cell_type": "code",
   "execution_count": 14,
   "metadata": {
    "ExecuteTime": {
     "end_time": "2023-01-17T20:00:19.315386Z",
     "start_time": "2023-01-17T20:00:19.242634Z"
    },
    "id": "qPwtp7-yhEJK"
   },
   "outputs": [
    {
     "data": {
      "text/plain": [
       "<KerasTensor: shape=(None, 200) dtype=float32 (created by layer 'dense')>"
      ]
     },
     "execution_count": 14,
     "metadata": {},
     "output_type": "execute_result"
    }
   ],
   "source": [
    "model.output"
   ]
  },
  {
   "cell_type": "code",
   "execution_count": 15,
   "metadata": {
    "ExecuteTime": {
     "end_time": "2023-01-17T20:00:19.458739Z",
     "start_time": "2023-01-17T20:00:19.315386Z"
    },
    "id": "BQvERJeKMd7A"
   },
   "outputs": [],
   "source": [
    "#Add 2nd hidden layer\n",
    "model.add(tf.keras.layers.Dense(100, activation='tanh'))"
   ]
  },
  {
   "cell_type": "code",
   "execution_count": 16,
   "metadata": {
    "ExecuteTime": {
     "end_time": "2023-01-17T20:00:19.590913Z",
     "start_time": "2023-01-17T20:00:19.462727Z"
    },
    "id": "a_rnC2j2he-P"
   },
   "outputs": [
    {
     "data": {
      "text/plain": [
       "<KerasTensor: shape=(None, 100) dtype=float32 (created by layer 'dense_1')>"
      ]
     },
     "execution_count": 16,
     "metadata": {},
     "output_type": "execute_result"
    }
   ],
   "source": [
    "model.output"
   ]
  },
  {
   "cell_type": "code",
   "execution_count": 17,
   "metadata": {
    "ExecuteTime": {
     "end_time": "2023-01-17T20:00:19.783978Z",
     "start_time": "2023-01-17T20:00:19.594564Z"
    },
    "id": "pwcz87-MMd7E"
   },
   "outputs": [],
   "source": [
    "#Add 3rd hidden layer\n",
    "model.add(tf.keras.layers.Dense(60, activation='tanh'))"
   ]
  },
  {
   "cell_type": "code",
   "execution_count": 18,
   "metadata": {
    "ExecuteTime": {
     "end_time": "2023-01-17T20:00:19.942515Z",
     "start_time": "2023-01-17T20:00:19.785973Z"
    },
    "id": "C4j9Cm1IMd7J"
   },
   "outputs": [],
   "source": [
    "#Add 4th hidden layer\n",
    "model.add(tf.keras.layers.Dense(30, activation='tanh'))"
   ]
  },
  {
   "cell_type": "code",
   "execution_count": 19,
   "metadata": {
    "ExecuteTime": {
     "end_time": "2023-01-17T20:00:20.051185Z",
     "start_time": "2023-01-17T20:00:19.946506Z"
    },
    "id": "GMkpspE8kqCn"
   },
   "outputs": [
    {
     "data": {
      "text/plain": [
       "<KerasTensor: shape=(None, 30) dtype=float32 (created by layer 'dense_3')>"
      ]
     },
     "execution_count": 19,
     "metadata": {},
     "output_type": "execute_result"
    }
   ],
   "source": [
    "model.output"
   ]
  },
  {
   "cell_type": "markdown",
   "metadata": {
    "id": "vdlnZCPIggCO"
   },
   "source": [
    "**Add Output Layer**\n",
    "Please note that activation function for the output layer is independent of what we used in hidden layer. Here we need to get 10 probabilities  (10 classes in MNIST with one right answer) and hence using softmax."
   ]
  },
  {
   "cell_type": "code",
   "execution_count": 20,
   "metadata": {
    "ExecuteTime": {
     "end_time": "2023-01-17T20:00:20.232683Z",
     "start_time": "2023-01-17T20:00:20.054736Z"
    },
    "id": "G05v_Zy9Md7Q"
   },
   "outputs": [],
   "source": [
    "#Add OUTPUT layer\n",
    "model.add(tf.keras.layers.Dense(10, activation='softmax'))"
   ]
  },
  {
   "cell_type": "markdown",
   "metadata": {
    "id": "pYNxSLydMd7U"
   },
   "source": [
    "Compile the Model"
   ]
  },
  {
   "cell_type": "code",
   "execution_count": 21,
   "metadata": {
    "ExecuteTime": {
     "end_time": "2023-01-17T20:00:20.378632Z",
     "start_time": "2023-01-17T20:00:20.237357Z"
    },
    "id": "FJWmzZ2vMd7W"
   },
   "outputs": [],
   "source": [
    "#Compile the model\n",
    "model.compile(optimizer='sgd', loss='categorical_crossentropy', \n",
    "              metrics=['accuracy'])"
   ]
  },
  {
   "cell_type": "markdown",
   "metadata": {
    "id": "gW7j_VfVMd7a"
   },
   "source": [
    "Review model"
   ]
  },
  {
   "cell_type": "code",
   "execution_count": 22,
   "metadata": {
    "ExecuteTime": {
     "end_time": "2023-01-17T20:00:20.520569Z",
     "start_time": "2023-01-17T20:00:20.381994Z"
    },
    "id": "ghrWVH2ZMd7b"
   },
   "outputs": [
    {
     "name": "stdout",
     "output_type": "stream",
     "text": [
      "Model: \"sequential\"\n",
      "_________________________________________________________________\n",
      " Layer (type)                Output Shape              Param #   \n",
      "=================================================================\n",
      " reshape (Reshape)           (None, 784)               0         \n",
      "                                                                 \n",
      " batch_normalization (BatchN  (None, 784)              3136      \n",
      " ormalization)                                                   \n",
      "                                                                 \n",
      " dense (Dense)               (None, 200)               157000    \n",
      "                                                                 \n",
      " dense_1 (Dense)             (None, 100)               20100     \n",
      "                                                                 \n",
      " dense_2 (Dense)             (None, 60)                6060      \n",
      "                                                                 \n",
      " dense_3 (Dense)             (None, 30)                1830      \n",
      "                                                                 \n",
      " dense_4 (Dense)             (None, 10)                310       \n",
      "                                                                 \n",
      "=================================================================\n",
      "Total params: 188,436\n",
      "Trainable params: 186,868\n",
      "Non-trainable params: 1,568\n",
      "_________________________________________________________________\n"
     ]
    }
   ],
   "source": [
    "model.summary()"
   ]
  },
  {
   "cell_type": "markdown",
   "metadata": {
    "id": "7KgYo8NeIAsD"
   },
   "source": [
    "#### Build the Model V2\n",
    "With Activation function Relu"
   ]
  },
  {
   "cell_type": "code",
   "execution_count": 23,
   "metadata": {
    "ExecuteTime": {
     "end_time": "2023-01-17T20:00:20.822991Z",
     "start_time": "2023-01-17T20:00:20.524563Z"
    },
    "id": "Akd68S_rIFnC"
   },
   "outputs": [],
   "source": [
    "#Initialize Sequential model\n",
    "tf.keras.backend.clear_session()\n",
    "model = tf.keras.models.Sequential()\n",
    "\n",
    "#Reshape data from 2D to 1D -> 28x28 to 784\n",
    "model.add(tf.keras.layers.Reshape((784,),input_shape=(28,28,)))\n",
    "\n",
    "#Normalize the data\n",
    "model.add(tf.keras.layers.BatchNormalization())"
   ]
  },
  {
   "cell_type": "markdown",
   "metadata": {
    "id": "mWt9NJAxIJZ4"
   },
   "source": [
    "In the code from previous model, replace 'tanh' with 'relu'"
   ]
  },
  {
   "cell_type": "code",
   "execution_count": 24,
   "metadata": {
    "ExecuteTime": {
     "end_time": "2023-01-17T20:00:21.022597Z",
     "start_time": "2023-01-17T20:00:20.826527Z"
    },
    "id": "L02hCltyIP6P"
   },
   "outputs": [],
   "source": [
    "#Add 1st hidden layer\n",
    "model.add(tf.keras.layers.Dense(200, activation='relu'))\n",
    "\n",
    "#Add 2nd hidden layer\n",
    "model.add(tf.keras.layers.Dense(100, activation='relu'))\n",
    "\n",
    "#Add 3rd hidden layer\n",
    "model.add(tf.keras.layers.Dense(60, activation='relu'))\n",
    "\n",
    "#Add 4th hidden layer\n",
    "model.add(tf.keras.layers.Dense(30, activation='relu'))"
   ]
  },
  {
   "cell_type": "markdown",
   "metadata": {
    "id": "H8oX9J7AJIu1"
   },
   "source": [
    "Output layer activation functio **will not change**."
   ]
  },
  {
   "cell_type": "code",
   "execution_count": 25,
   "metadata": {
    "ExecuteTime": {
     "end_time": "2023-01-17T20:00:21.098150Z",
     "start_time": "2023-01-17T20:00:21.027395Z"
    },
    "id": "mkF5To6YJDVM"
   },
   "outputs": [],
   "source": [
    "#Add OUTPUT layer\n",
    "model.add(tf.keras.layers.Dense(10, activation='softmax'))"
   ]
  },
  {
   "cell_type": "code",
   "execution_count": 26,
   "metadata": {
    "ExecuteTime": {
     "end_time": "2023-01-17T20:00:21.247176Z",
     "start_time": "2023-01-17T20:00:21.102259Z"
    },
    "id": "cjznKzJDJOJH"
   },
   "outputs": [],
   "source": [
    "#Compile the model\n",
    "model.compile(optimizer='sgd', loss='categorical_crossentropy', \n",
    "              metrics=['accuracy'])"
   ]
  },
  {
   "cell_type": "markdown",
   "metadata": {
    "id": "DSrx5nDAJVuw"
   },
   "source": [
    "#### Build the model V3\n",
    "With LeakyRelu activation function"
   ]
  },
  {
   "cell_type": "code",
   "execution_count": 27,
   "metadata": {
    "ExecuteTime": {
     "end_time": "2023-01-17T20:00:21.506117Z",
     "start_time": "2023-01-17T20:00:21.250406Z"
    },
    "id": "oMI46axCJbEX"
   },
   "outputs": [],
   "source": [
    "#Initialize Sequential model\n",
    "tf.keras.backend.clear_session()\n",
    "model = tf.keras.models.Sequential()\n",
    "\n",
    "#Reshape data from 2D to 1D -> 28x28 to 784\n",
    "model.add(tf.keras.layers.Reshape((784,),input_shape=(28,28,)))\n",
    "\n",
    "#Normalize the data\n",
    "model.add(tf.keras.layers.BatchNormalization())"
   ]
  },
  {
   "cell_type": "markdown",
   "metadata": {
    "id": "JJgPmo9MJwkX"
   },
   "source": [
    "LeakyRelu is available as a layer in Keras"
   ]
  },
  {
   "cell_type": "code",
   "execution_count": 28,
   "metadata": {
    "ExecuteTime": {
     "end_time": "2023-01-17T20:00:21.737199Z",
     "start_time": "2023-01-17T20:00:21.510329Z"
    },
    "id": "HkaNKOl_Jdgm"
   },
   "outputs": [],
   "source": [
    "#Add 1st hidden layer\n",
    "model.add(tf.keras.layers.Dense(200))\n",
    "model.add(tf.keras.layers.LeakyReLU())\n",
    "\n",
    "#Add 2nd hidden layer\n",
    "model.add(tf.keras.layers.Dense(100))\n",
    "model.add(tf.keras.layers.LeakyReLU())\n",
    "\n",
    "#Add 3rd hidden layer\n",
    "model.add(tf.keras.layers.Dense(60))\n",
    "model.add(tf.keras.layers.LeakyReLU())\n",
    "\n",
    "#Add 4th hidden layer\n",
    "model.add(tf.keras.layers.Dense(30))\n",
    "model.add(tf.keras.layers.LeakyReLU())"
   ]
  },
  {
   "cell_type": "markdown",
   "metadata": {
    "id": "p7d3ybRUJ-if"
   },
   "source": [
    "Output layer will remain same."
   ]
  },
  {
   "cell_type": "code",
   "execution_count": 29,
   "metadata": {
    "ExecuteTime": {
     "end_time": "2023-01-17T20:00:21.828613Z",
     "start_time": "2023-01-17T20:00:21.744563Z"
    },
    "id": "rPNkbLNVJ-vO"
   },
   "outputs": [],
   "source": [
    "#Add OUTPUT layer\n",
    "model.add(tf.keras.layers.Dense(10, activation='softmax'))\n",
    "\n",
    "#Compile the model\n",
    "model.compile(optimizer='sgd', loss='categorical_crossentropy', \n",
    "              metrics=['accuracy'])"
   ]
  },
  {
   "cell_type": "markdown",
   "metadata": {
    "id": "2buwfHWIKZnX"
   },
   "source": [
    "#### Build the Model V4\n",
    "Applying Dropout"
   ]
  },
  {
   "cell_type": "code",
   "execution_count": 30,
   "metadata": {
    "ExecuteTime": {
     "end_time": "2023-01-17T20:00:22.074358Z",
     "start_time": "2023-01-17T20:00:21.833090Z"
    },
    "id": "oBYR7adxKZnY"
   },
   "outputs": [],
   "source": [
    "#Initialize Sequential model\n",
    "tf.keras.backend.clear_session()\n",
    "model = tf.keras.models.Sequential()\n",
    "\n",
    "#Reshape data from 2D to 1D -> 28x28 to 784\n",
    "model.add(tf.keras.layers.Reshape((784,),input_shape=(28,28,)))\n",
    "\n",
    "#Normalize the data\n",
    "model.add(tf.keras.layers.BatchNormalization())"
   ]
  },
  {
   "cell_type": "markdown",
   "metadata": {
    "id": "Hw6nad27KwZd"
   },
   "source": [
    "**Dropout** can be applied after any trainable layer (e.g Dense). Dropuout rate is a hyper-parameter and usually between 0.1 (10%) to 0.5 (50%). In Keras, Dropout is a layer and we can specify the dropout rate when adding the layer."
   ]
  },
  {
   "cell_type": "code",
   "execution_count": 31,
   "metadata": {
    "ExecuteTime": {
     "end_time": "2023-01-17T20:00:22.336575Z",
     "start_time": "2023-01-17T20:00:22.075409Z"
    },
    "id": "CrSSL7W7KZna"
   },
   "outputs": [],
   "source": [
    "#Add 1st hidden layer \n",
    "model.add(tf.keras.layers.Dense(200, activation='relu'))\n",
    "model.add(tf.keras.layers.Dropout(0.4)) #40% dropout rate\n",
    "\n",
    "#Add 2nd hidden layer\n",
    "model.add(tf.keras.layers.Dense(100, activation='relu'))\n",
    "model.add(tf.keras.layers.Dropout(0.3)) #30% dropout rate\n",
    "\n",
    "#Add 3rd hidden layer, we may or may not use dropout after every layer\n",
    "model.add(tf.keras.layers.Dense(60, activation='relu'))\n",
    "\n",
    "#Add 4th hidden layer\n",
    "model.add(tf.keras.layers.Dense(30, activation='relu'))\n",
    "model.add(tf.keras.layers.Dropout(0.25)) #25% dropout rate"
   ]
  },
  {
   "cell_type": "markdown",
   "metadata": {
    "id": "Ql6yYRoxKZna"
   },
   "source": [
    "Never use dropout **after** the output layer"
   ]
  },
  {
   "cell_type": "code",
   "execution_count": 32,
   "metadata": {
    "ExecuteTime": {
     "end_time": "2023-01-17T20:00:22.387355Z",
     "start_time": "2023-01-17T20:00:22.339868Z"
    },
    "id": "yUCzUtYKKZna"
   },
   "outputs": [],
   "source": [
    "#Add OUTPUT layer\n",
    "model.add(tf.keras.layers.Dense(10, activation='softmax'))"
   ]
  },
  {
   "cell_type": "code",
   "execution_count": 33,
   "metadata": {
    "ExecuteTime": {
     "end_time": "2023-01-17T20:00:22.520538Z",
     "start_time": "2023-01-17T20:00:22.391559Z"
    },
    "id": "WsoJ55KqKZna"
   },
   "outputs": [],
   "source": [
    "#Compile the model\n",
    "model.compile(optimizer='sgd', loss='categorical_crossentropy', \n",
    "              metrics=['accuracy'])"
   ]
  },
  {
   "cell_type": "markdown",
   "metadata": {
    "id": "u0OQOuFCMJXG"
   },
   "source": [
    "#### Build the Model V5\n",
    "Applying BatchNormalization"
   ]
  },
  {
   "cell_type": "code",
   "execution_count": 34,
   "metadata": {
    "ExecuteTime": {
     "end_time": "2023-01-17T20:00:22.759183Z",
     "start_time": "2023-01-17T20:00:22.524611Z"
    },
    "id": "thYtDk6YMJXO"
   },
   "outputs": [],
   "source": [
    "#Initialize Sequential model\n",
    "tf.keras.backend.clear_session()\n",
    "model = tf.keras.models.Sequential()\n",
    "\n",
    "#Reshape data from 2D to 1D -> 28x28 to 784\n",
    "model.add(tf.keras.layers.Reshape((784,),input_shape=(28,28,)))\n",
    "\n",
    "#Normalize the data\n",
    "model.add(tf.keras.layers.BatchNormalization())"
   ]
  },
  {
   "cell_type": "markdown",
   "metadata": {
    "id": "J3__uQ2AMJXO"
   },
   "source": [
    "**BatchNormalization** can be applied **before** any trainable layer (e.g Dense). We can use a combination of BatchNorm and Dropout layer. Both layers are used to reduce overfitting."
   ]
  },
  {
   "cell_type": "code",
   "execution_count": 35,
   "metadata": {
    "ExecuteTime": {
     "end_time": "2023-01-17T20:00:23.061296Z",
     "start_time": "2023-01-17T20:00:22.762979Z"
    },
    "id": "FYjwHEFxMJXO"
   },
   "outputs": [],
   "source": [
    "#Add 1st hidden layer \n",
    "model.add(tf.keras.layers.Dense(200, activation='relu'))\n",
    "\n",
    "#Add 2nd hidden layer\n",
    "model.add(tf.keras.layers.BatchNormalization())\n",
    "model.add(tf.keras.layers.Dense(100, activation='relu'))\n",
    "\n",
    "#Add 3rd hidden layer, we may or may not use dropout after every layer\n",
    "model.add(tf.keras.layers.BatchNormalization())\n",
    "model.add(tf.keras.layers.Dense(60, activation='relu'))\n",
    "\n",
    "#Add 4th hidden layer\n",
    "model.add(tf.keras.layers.BatchNormalization())\n",
    "model.add(tf.keras.layers.Dense(30, activation='relu'))"
   ]
  },
  {
   "cell_type": "markdown",
   "metadata": {
    "id": "qCiQHfvzMJXP"
   },
   "source": [
    "We can use BatchNorm layer **before** the output layer"
   ]
  },
  {
   "cell_type": "code",
   "execution_count": 36,
   "metadata": {
    "ExecuteTime": {
     "end_time": "2023-01-17T20:00:23.162193Z",
     "start_time": "2023-01-17T20:00:23.062327Z"
    },
    "id": "F4qjI8sKMJXP"
   },
   "outputs": [],
   "source": [
    "#Add OUTPUT layer\n",
    "model.add(tf.keras.layers.BatchNormalization())\n",
    "model.add(tf.keras.layers.Dense(10, activation='softmax'))"
   ]
  },
  {
   "cell_type": "code",
   "execution_count": 37,
   "metadata": {
    "ExecuteTime": {
     "end_time": "2023-01-17T20:00:23.240140Z",
     "start_time": "2023-01-17T20:00:23.165932Z"
    },
    "id": "dOFA-FEzMJXP"
   },
   "outputs": [],
   "source": [
    "#Compile the model\n",
    "model.compile(optimizer='sgd', loss='categorical_crossentropy', \n",
    "              metrics=['accuracy'])"
   ]
  },
  {
   "cell_type": "markdown",
   "metadata": {
    "id": "Lblu99B6Md7l"
   },
   "source": [
    "#### Changing default learning rate"
   ]
  },
  {
   "cell_type": "markdown",
   "metadata": {
    "id": "Ddfp_P76NG53"
   },
   "source": [
    "Learning rate can be changed in the optimizer. So when we do model.compile, we can use a customized optimizer object. Try different learning rates to see which helps to get better test accuracy (or lower test loss)."
   ]
  },
  {
   "cell_type": "code",
   "execution_count": 38,
   "metadata": {
    "ExecuteTime": {
     "end_time": "2023-01-17T20:00:23.384410Z",
     "start_time": "2023-01-17T20:00:23.243838Z"
    },
    "id": "eoba1_UocJLO"
   },
   "outputs": [
    {
     "name": "stderr",
     "output_type": "stream",
     "text": [
      "C:\\Users\\Priyanka\\anaconda3\\lib\\site-packages\\keras\\optimizers\\optimizer_v2\\gradient_descent.py:111: UserWarning: The `lr` argument is deprecated, use `learning_rate` instead.\n",
      "  super().__init__(name, **kwargs)\n"
     ]
    }
   ],
   "source": [
    "#Create a SGD Optimizer object and set the learning ('lr' parameter)\n",
    "sgd_optimizer = tf.keras.optimizers.SGD(lr=0.1)\n",
    "\n",
    "#Use the above object while compiling th model\n",
    "model.compile(optimizer=sgd_optimizer, loss='categorical_crossentropy', metrics=['accuracy'])"
   ]
  },
  {
   "cell_type": "markdown",
   "metadata": {
    "id": "ZJGgUEWWOucV"
   },
   "source": [
    "#### Learning rate decay"
   ]
  },
  {
   "cell_type": "markdown",
   "metadata": {
    "id": "UMTwGBlcOucd"
   },
   "source": [
    "Learning rate decay is an approach to reduce learning rate over a period. We can set decay rate in the optimizer object using 'decay' parameter."
   ]
  },
  {
   "cell_type": "code",
   "execution_count": 39,
   "metadata": {
    "ExecuteTime": {
     "end_time": "2023-01-17T20:00:23.520832Z",
     "start_time": "2023-01-17T20:00:23.388030Z"
    },
    "id": "ejkHk5Q_Ouce"
   },
   "outputs": [],
   "source": [
    "#Create a SGD Optimizer object and set the learning ('lr' parameter)\n",
    "sgd_optimizer = tf.keras.optimizers.SGD(lr=0.1, decay=0.001)\n",
    "\n",
    "#Use the above object while compiling the model\n",
    "model.compile(optimizer=sgd_optimizer, loss='categorical_crossentropy', metrics=['accuracy'])"
   ]
  },
  {
   "cell_type": "markdown",
   "metadata": {
    "id": "aAPfctJ-PIgj"
   },
   "source": [
    "#### Using different Optimizers"
   ]
  },
  {
   "cell_type": "markdown",
   "metadata": {
    "id": "k2WgUwJEPIgr"
   },
   "source": [
    "Applying Momentum"
   ]
  },
  {
   "cell_type": "code",
   "execution_count": 40,
   "metadata": {
    "ExecuteTime": {
     "end_time": "2023-01-17T20:00:23.708193Z",
     "start_time": "2023-01-17T20:00:23.523749Z"
    },
    "id": "ri5wU9HgPIgr"
   },
   "outputs": [],
   "source": [
    "#Create a SGD Optimizer object and set the momentum parameter\n",
    "sgd_optimizer = tf.keras.optimizers.SGD(lr=0.1, momentum=0.9)\n",
    "\n",
    "#Use the above object while compiling the model\n",
    "model.compile(optimizer=sgd_optimizer, loss='categorical_crossentropy', metrics=['accuracy'])"
   ]
  },
  {
   "cell_type": "markdown",
   "metadata": {
    "id": "E7MdVaGLPXgz"
   },
   "source": [
    "Applying Nesterov Momemtum"
   ]
  },
  {
   "cell_type": "code",
   "execution_count": 41,
   "metadata": {
    "ExecuteTime": {
     "end_time": "2023-01-17T20:00:23.868949Z",
     "start_time": "2023-01-17T20:00:23.722726Z"
    },
    "id": "xpUSSJ72PgWm"
   },
   "outputs": [],
   "source": [
    "#Create a SGD Optimizer object and set the momentum parameter and nesetrov=True\n",
    "sgd_optimizer = tf.keras.optimizers.SGD(lr=0.1, momentum=0.9, nesterov=True)\n",
    "\n",
    "#Use the above object while compiling th model\n",
    "model.compile(optimizer=sgd_optimizer, loss='categorical_crossentropy', metrics=['accuracy'])"
   ]
  },
  {
   "cell_type": "markdown",
   "metadata": {
    "id": "RMaw5lW1Prhz"
   },
   "source": [
    "Adagrad"
   ]
  },
  {
   "cell_type": "code",
   "execution_count": 42,
   "metadata": {
    "ExecuteTime": {
     "end_time": "2023-01-17T20:00:23.995446Z",
     "start_time": "2023-01-17T20:00:23.870507Z"
    },
    "id": "_fwylzjmPvLx"
   },
   "outputs": [],
   "source": [
    "#Using adagrad\n",
    "model.compile(optimizer='adagrad', loss='categorical_crossentropy', metrics=['accuracy'])"
   ]
  },
  {
   "cell_type": "markdown",
   "metadata": {
    "id": "nuhBSYp-P7Y-"
   },
   "source": [
    "Adadelta"
   ]
  },
  {
   "cell_type": "code",
   "execution_count": 43,
   "metadata": {
    "ExecuteTime": {
     "end_time": "2023-01-17T20:00:24.139574Z",
     "start_time": "2023-01-17T20:00:23.996442Z"
    },
    "id": "9DHB_8NdP9Mt"
   },
   "outputs": [],
   "source": [
    "#Using adadelta\n",
    "model.compile(optimizer='adadelta', loss='categorical_crossentropy', metrics=['accuracy'])"
   ]
  },
  {
   "cell_type": "markdown",
   "metadata": {
    "id": "qP4vr7pYQAi_"
   },
   "source": [
    "RMSProp"
   ]
  },
  {
   "cell_type": "code",
   "execution_count": 44,
   "metadata": {
    "ExecuteTime": {
     "end_time": "2023-01-17T20:00:24.292110Z",
     "start_time": "2023-01-17T20:00:24.143885Z"
    },
    "id": "VtVHxAkYQB1E"
   },
   "outputs": [],
   "source": [
    "#Using RMSProp\n",
    "model.compile(optimizer='rmsprop', loss='categorical_crossentropy', metrics=['accuracy'])"
   ]
  },
  {
   "cell_type": "markdown",
   "metadata": {
    "id": "sPTIX54EQLMi"
   },
   "source": [
    "RMSProp with a different learning rate"
   ]
  },
  {
   "cell_type": "code",
   "execution_count": 45,
   "metadata": {
    "ExecuteTime": {
     "end_time": "2023-01-17T20:00:24.503386Z",
     "start_time": "2023-01-17T20:00:24.295104Z"
    },
    "id": "cGwauGCFQNjE"
   },
   "outputs": [
    {
     "name": "stderr",
     "output_type": "stream",
     "text": [
      "C:\\Users\\Priyanka\\anaconda3\\lib\\site-packages\\keras\\optimizers\\optimizer_v2\\rmsprop.py:140: UserWarning: The `lr` argument is deprecated, use `learning_rate` instead.\n",
      "  super().__init__(name, **kwargs)\n"
     ]
    }
   ],
   "source": [
    "#Create a RMSProp Optimizer object and set the learning rate\n",
    "rmsprop_optimizer = tf.keras.optimizers.RMSprop(lr=0.1)\n",
    "\n",
    "#Use the above object while compiling the model\n",
    "model.compile(optimizer=rmsprop_optimizer, loss='categorical_crossentropy', metrics=['accuracy'])"
   ]
  },
  {
   "cell_type": "markdown",
   "metadata": {
    "id": "bTKzKiD9Qand"
   },
   "source": [
    "Using Adam"
   ]
  },
  {
   "cell_type": "code",
   "execution_count": 46,
   "metadata": {
    "ExecuteTime": {
     "end_time": "2023-01-17T20:00:24.597757Z",
     "start_time": "2023-01-17T20:00:24.506158Z"
    },
    "id": "ii79oF7WQaCE"
   },
   "outputs": [],
   "source": [
    "#Using Adam\n",
    "model.compile(optimizer='adam', loss='categorical_crossentropy', metrics=['accuracy'])"
   ]
  },
  {
   "cell_type": "markdown",
   "metadata": {
    "id": "PIqCdyrmM_EW"
   },
   "source": [
    "#### Train the model"
   ]
  },
  {
   "cell_type": "code",
   "execution_count": 47,
   "metadata": {
    "ExecuteTime": {
     "end_time": "2023-01-17T20:00:24.755861Z",
     "start_time": "2023-01-17T20:00:24.598758Z"
    },
    "id": "l3NdFc9TM_EY"
   },
   "outputs": [],
   "source": [
    "model_checkpoint = tf.keras.callbacks.ModelCheckpoint('mnist_v1.h5', save_best_only=True, \n",
    "                                                      monitor='val_accuracy', \n",
    "                                                      mode='max', verbose=1)"
   ]
  },
  {
   "cell_type": "code",
   "execution_count": 48,
   "metadata": {
    "ExecuteTime": {
     "end_time": "2023-01-17T20:02:51.339462Z",
     "start_time": "2023-01-17T20:00:24.760800Z"
    },
    "id": "aSVRw6IsM_EZ"
   },
   "outputs": [
    {
     "name": "stdout",
     "output_type": "stream",
     "text": [
      "Epoch 1/10\n",
      "1867/1875 [============================>.] - ETA: 0s - loss: 0.3089 - accuracy: 0.9087\n",
      "Epoch 1: val_accuracy improved from -inf to 0.95060, saving model to mnist_v1.h5\n",
      "1875/1875 [==============================] - 19s 8ms/step - loss: 0.3084 - accuracy: 0.9089 - val_loss: 0.3146 - val_accuracy: 0.9506\n",
      "Epoch 2/10\n",
      "1875/1875 [==============================] - ETA: 0s - loss: 0.1482 - accuracy: 0.9553\n",
      "Epoch 2: val_accuracy improved from 0.95060 to 0.96610, saving model to mnist_v1.h5\n",
      "1875/1875 [==============================] - 16s 8ms/step - loss: 0.1482 - accuracy: 0.9553 - val_loss: 0.3123 - val_accuracy: 0.9661\n",
      "Epoch 3/10\n",
      "1868/1875 [============================>.] - ETA: 0s - loss: 0.1142 - accuracy: 0.9649\n",
      "Epoch 3: val_accuracy improved from 0.96610 to 0.96740, saving model to mnist_v1.h5\n",
      "1875/1875 [==============================] - 16s 8ms/step - loss: 0.1142 - accuracy: 0.9649 - val_loss: 0.2798 - val_accuracy: 0.9674\n",
      "Epoch 4/10\n",
      "1874/1875 [============================>.] - ETA: 0s - loss: 0.0946 - accuracy: 0.9700\n",
      "Epoch 4: val_accuracy improved from 0.96740 to 0.96810, saving model to mnist_v1.h5\n",
      "1875/1875 [==============================] - 16s 8ms/step - loss: 0.0946 - accuracy: 0.9700 - val_loss: 0.8182 - val_accuracy: 0.9681\n",
      "Epoch 5/10\n",
      "1874/1875 [============================>.] - ETA: 0s - loss: 0.0782 - accuracy: 0.9758\n",
      "Epoch 5: val_accuracy improved from 0.96810 to 0.96830, saving model to mnist_v1.h5\n",
      "1875/1875 [==============================] - 16s 9ms/step - loss: 0.0782 - accuracy: 0.9757 - val_loss: 0.5061 - val_accuracy: 0.9683\n",
      "Epoch 6/10\n",
      "1869/1875 [============================>.] - ETA: 0s - loss: 0.0694 - accuracy: 0.9774\n",
      "Epoch 6: val_accuracy improved from 0.96830 to 0.97330, saving model to mnist_v1.h5\n",
      "1875/1875 [==============================] - 16s 8ms/step - loss: 0.0695 - accuracy: 0.9774 - val_loss: 0.8439 - val_accuracy: 0.9733\n",
      "Epoch 7/10\n",
      "1870/1875 [============================>.] - ETA: 0s - loss: 0.0618 - accuracy: 0.9807\n",
      "Epoch 7: val_accuracy did not improve from 0.97330\n",
      "1875/1875 [==============================] - 15s 8ms/step - loss: 0.0619 - accuracy: 0.9807 - val_loss: 0.4560 - val_accuracy: 0.9694\n",
      "Epoch 8/10\n",
      "1874/1875 [============================>.] - ETA: 0s - loss: 0.0588 - accuracy: 0.9811\n",
      "Epoch 8: val_accuracy did not improve from 0.97330\n",
      "1875/1875 [==============================] - 16s 8ms/step - loss: 0.0588 - accuracy: 0.9811 - val_loss: 0.7018 - val_accuracy: 0.9698\n",
      "Epoch 9/10\n",
      "1865/1875 [============================>.] - ETA: 0s - loss: 0.0511 - accuracy: 0.9831\n",
      "Epoch 9: val_accuracy did not improve from 0.97330\n",
      "1875/1875 [==============================] - 10s 5ms/step - loss: 0.0512 - accuracy: 0.9831 - val_loss: 0.8238 - val_accuracy: 0.9722\n",
      "Epoch 10/10\n",
      "1860/1875 [============================>.] - ETA: 0s - loss: 0.0462 - accuracy: 0.9849\n",
      "Epoch 10: val_accuracy did not improve from 0.97330\n",
      "1875/1875 [==============================] - 8s 4ms/step - loss: 0.0463 - accuracy: 0.9849 - val_loss: 0.9168 - val_accuracy: 0.9721\n"
     ]
    },
    {
     "data": {
      "text/plain": [
       "<keras.callbacks.History at 0x2a606a21910>"
      ]
     },
     "execution_count": 48,
     "metadata": {},
     "output_type": "execute_result"
    }
   ],
   "source": [
    "model.fit(trainX,trainY,          \n",
    "          validation_data=(testX,testY),\n",
    "          epochs=10,\n",
    "          batch_size=32, \n",
    "          callbacks=[model_checkpoint])"
   ]
  },
  {
   "cell_type": "code",
   "execution_count": 49,
   "metadata": {
    "ExecuteTime": {
     "end_time": "2023-01-17T20:02:51.448811Z",
     "start_time": "2023-01-17T20:02:51.339462Z"
    },
    "id": "tkiaGvKoM_EZ"
   },
   "outputs": [],
   "source": [
    "model.save('mnist_sigmoid_v1.h5')"
   ]
  },
  {
   "cell_type": "code",
   "execution_count": 50,
   "metadata": {
    "ExecuteTime": {
     "end_time": "2023-01-17T20:02:52.089285Z",
     "start_time": "2023-01-17T20:02:51.448811Z"
    },
    "id": "7iLZ12OMM_EZ"
   },
   "outputs": [
    {
     "name": "stderr",
     "output_type": "stream",
     "text": [
      "'ls' is not recognized as an internal or external command,\n",
      "operable program or batch file.\n"
     ]
    }
   ],
   "source": [
    "!ls -l"
   ]
  },
  {
   "cell_type": "markdown",
   "metadata": {
    "id": "rW7N0HhUM_Ea"
   },
   "source": [
    "Load a saved model"
   ]
  },
  {
   "cell_type": "code",
   "execution_count": 51,
   "metadata": {
    "ExecuteTime": {
     "end_time": "2023-01-17T20:02:52.526681Z",
     "start_time": "2023-01-17T20:02:52.089285Z"
    },
    "id": "hdgvd1gsM_Ea"
   },
   "outputs": [],
   "source": [
    "model = tf.keras.models.load_model('mnist_sigmoid_v1.h5')"
   ]
  },
  {
   "cell_type": "code",
   "execution_count": 52,
   "metadata": {
    "ExecuteTime": {
     "end_time": "2023-01-17T20:02:52.573544Z",
     "start_time": "2023-01-17T20:02:52.526681Z"
    },
    "id": "O_n-fF91M_Ea"
   },
   "outputs": [
    {
     "name": "stdout",
     "output_type": "stream",
     "text": [
      "Model: \"sequential\"\n",
      "_________________________________________________________________\n",
      " Layer (type)                Output Shape              Param #   \n",
      "=================================================================\n",
      " reshape (Reshape)           (None, 784)               0         \n",
      "                                                                 \n",
      " batch_normalization (BatchN  (None, 784)              3136      \n",
      " ormalization)                                                   \n",
      "                                                                 \n",
      " dense (Dense)               (None, 200)               157000    \n",
      "                                                                 \n",
      " batch_normalization_1 (Batc  (None, 200)              800       \n",
      " hNormalization)                                                 \n",
      "                                                                 \n",
      " dense_1 (Dense)             (None, 100)               20100     \n",
      "                                                                 \n",
      " batch_normalization_2 (Batc  (None, 100)              400       \n",
      " hNormalization)                                                 \n",
      "                                                                 \n",
      " dense_2 (Dense)             (None, 60)                6060      \n",
      "                                                                 \n",
      " batch_normalization_3 (Batc  (None, 60)               240       \n",
      " hNormalization)                                                 \n",
      "                                                                 \n",
      " dense_3 (Dense)             (None, 30)                1830      \n",
      "                                                                 \n",
      " batch_normalization_4 (Batc  (None, 30)               120       \n",
      " hNormalization)                                                 \n",
      "                                                                 \n",
      " dense_4 (Dense)             (None, 10)                310       \n",
      "                                                                 \n",
      "=================================================================\n",
      "Total params: 189,996\n",
      "Trainable params: 187,648\n",
      "Non-trainable params: 2,348\n",
      "_________________________________________________________________\n"
     ]
    }
   ],
   "source": [
    "model.summary()"
   ]
  },
  {
   "cell_type": "markdown",
   "metadata": {
    "id": "Dzuw6nSOm69M"
   },
   "source": [
    "### Model Prediction"
   ]
  },
  {
   "cell_type": "code",
   "execution_count": 53,
   "metadata": {
    "ExecuteTime": {
     "end_time": "2023-01-17T20:02:52.964079Z",
     "start_time": "2023-01-17T20:02:52.573544Z"
    },
    "id": "ToXxgw8i-gcQ"
   },
   "outputs": [],
   "source": [
    "import numpy as np"
   ]
  },
  {
   "cell_type": "markdown",
   "metadata": {
    "id": "Za3sCZMrf1-g"
   },
   "source": [
    "What input shape model is expecting?"
   ]
  },
  {
   "cell_type": "code",
   "execution_count": 54,
   "metadata": {
    "ExecuteTime": {
     "end_time": "2023-01-17T20:02:53.417095Z",
     "start_time": "2023-01-17T20:02:52.964079Z"
    },
    "id": "FJyCuyBapHYJ"
   },
   "outputs": [
    {
     "data": {
      "text/plain": [
       "<KerasTensor: shape=(None, 28, 28) dtype=float32 (created by layer 'reshape_input')>"
      ]
     },
     "execution_count": 54,
     "metadata": {},
     "output_type": "execute_result"
    }
   ],
   "source": [
    "model.input"
   ]
  },
  {
   "cell_type": "markdown",
   "metadata": {
    "id": "H5X0ikgMf56C"
   },
   "source": [
    "Predicting on first example"
   ]
  },
  {
   "cell_type": "code",
   "execution_count": 55,
   "metadata": {
    "ExecuteTime": {
     "end_time": "2023-01-17T20:02:53.682658Z",
     "start_time": "2023-01-17T20:02:53.417095Z"
    },
    "id": "ueHiCTJcse5p"
   },
   "outputs": [
    {
     "data": {
      "text/plain": [
       "(28, 28)"
      ]
     },
     "execution_count": 55,
     "metadata": {},
     "output_type": "execute_result"
    }
   ],
   "source": [
    "testX[0].shape"
   ]
  },
  {
   "cell_type": "code",
   "execution_count": 58,
   "metadata": {
    "ExecuteTime": {
     "end_time": "2023-01-18T07:30:07.052785Z",
     "start_time": "2023-01-18T07:30:06.978830Z"
    },
    "id": "iIXUb0DSOj46"
   },
   "outputs": [
    {
     "data": {
      "text/plain": [
       "(28, 28)"
      ]
     },
     "execution_count": 58,
     "metadata": {},
     "output_type": "execute_result"
    }
   ],
   "source": [
    "testX[0].shape"
   ]
  },
  {
   "cell_type": "markdown",
   "metadata": {
    "id": "q8qJZrthgA2o"
   },
   "source": [
    "Building a Batch"
   ]
  },
  {
   "cell_type": "code",
   "execution_count": 59,
   "metadata": {
    "ExecuteTime": {
     "end_time": "2023-01-18T07:30:09.199621Z",
     "start_time": "2023-01-18T07:30:09.127071Z"
    },
    "id": "qTPk1-1-OnMN"
   },
   "outputs": [
    {
     "data": {
      "text/plain": [
       "(1, 28, 28)"
      ]
     },
     "execution_count": 59,
     "metadata": {},
     "output_type": "execute_result"
    }
   ],
   "source": [
    "input_data = np.expand_dims(testX[0], axis=0)\n",
    "input_data.shape"
   ]
  },
  {
   "cell_type": "markdown",
   "metadata": {
    "id": "gtVUC5_XgDRU"
   },
   "source": [
    "Model Prediction"
   ]
  },
  {
   "cell_type": "code",
   "execution_count": 60,
   "metadata": {
    "ExecuteTime": {
     "end_time": "2023-01-18T07:30:12.133783Z",
     "start_time": "2023-01-18T07:30:11.028763Z"
    },
    "id": "kF2Pc1xZxmn_"
   },
   "outputs": [
    {
     "name": "stdout",
     "output_type": "stream",
     "text": [
      "1/1 [==============================] - 1s 913ms/step\n"
     ]
    },
    {
     "data": {
      "text/plain": [
       "array([[1.19023025e-05, 9.13103008e-07, 1.00508794e-06, 9.44044132e-07,\n",
       "        3.16373553e-05, 8.46846433e-06, 5.68213295e-07, 9.99923468e-01,\n",
       "        2.64276105e-06, 1.84434739e-05]], dtype=float32)"
      ]
     },
     "execution_count": 60,
     "metadata": {},
     "output_type": "execute_result"
    }
   ],
   "source": [
    "pred = model.predict(input_data)\n",
    "pred"
   ]
  },
  {
   "cell_type": "code",
   "execution_count": 61,
   "metadata": {
    "ExecuteTime": {
     "end_time": "2023-01-18T07:30:14.226931Z",
     "start_time": "2023-01-18T07:30:14.211160Z"
    },
    "id": "81RPh-28PQRE"
   },
   "outputs": [
    {
     "data": {
      "text/plain": [
       "(1, 10)"
      ]
     },
     "execution_count": 61,
     "metadata": {},
     "output_type": "execute_result"
    }
   ],
   "source": [
    "pred.shape"
   ]
  },
  {
   "cell_type": "code",
   "execution_count": 62,
   "metadata": {
    "ExecuteTime": {
     "end_time": "2023-01-18T07:30:16.104789Z",
     "start_time": "2023-01-18T07:30:16.082905Z"
    },
    "id": "ZHX4aemJzRRF"
   },
   "outputs": [
    {
     "data": {
      "text/plain": [
       "array([1.19023025e-05, 9.13103008e-07, 1.00508794e-06, 9.44044132e-07,\n",
       "       3.16373553e-05, 8.46846433e-06, 5.68213295e-07, 9.99923468e-01,\n",
       "       2.64276105e-06, 1.84434739e-05], dtype=float32)"
      ]
     },
     "execution_count": 62,
     "metadata": {},
     "output_type": "execute_result"
    }
   ],
   "source": [
    "pred[0]"
   ]
  },
  {
   "cell_type": "markdown",
   "metadata": {
    "id": "aKxckoKVgJAS"
   },
   "source": [
    "Predicted Class"
   ]
  },
  {
   "cell_type": "code",
   "execution_count": 63,
   "metadata": {
    "ExecuteTime": {
     "end_time": "2023-01-18T07:30:18.378022Z",
     "start_time": "2023-01-18T07:30:18.361263Z"
    },
    "id": "QXuDg_kTzoFS"
   },
   "outputs": [
    {
     "data": {
      "text/plain": [
       "7"
      ]
     },
     "execution_count": 63,
     "metadata": {},
     "output_type": "execute_result"
    }
   ],
   "source": [
    "np.argmax(pred[0])"
   ]
  },
  {
   "cell_type": "code",
   "execution_count": 64,
   "metadata": {
    "ExecuteTime": {
     "end_time": "2023-01-18T07:30:20.003802Z",
     "start_time": "2023-01-18T07:30:19.994485Z"
    },
    "id": "_B3RtKmluI1G"
   },
   "outputs": [
    {
     "data": {
      "text/plain": [
       "0.99992347"
      ]
     },
     "execution_count": 64,
     "metadata": {},
     "output_type": "execute_result"
    }
   ],
   "source": [
    "np.max(pred[0])"
   ]
  },
  {
   "cell_type": "markdown",
   "metadata": {
    "id": "_-dZh-NagLAl"
   },
   "source": [
    "Actual Class"
   ]
  },
  {
   "cell_type": "code",
   "execution_count": 65,
   "metadata": {
    "ExecuteTime": {
     "end_time": "2023-01-18T07:30:21.828777Z",
     "start_time": "2023-01-18T07:30:21.813728Z"
    },
    "id": "Oq28b6Q60bGm"
   },
   "outputs": [
    {
     "data": {
      "text/plain": [
       "7"
      ]
     },
     "execution_count": 65,
     "metadata": {},
     "output_type": "execute_result"
    }
   ],
   "source": [
    "np.argmax(testY[0])"
   ]
  },
  {
   "cell_type": "markdown",
   "metadata": {
    "id": "h0pUXhEfgNXa"
   },
   "source": [
    "Visual confirmation"
   ]
  },
  {
   "cell_type": "code",
   "execution_count": 66,
   "metadata": {
    "ExecuteTime": {
     "end_time": "2023-01-18T07:30:24.588887Z",
     "start_time": "2023-01-18T07:30:23.757434Z"
    },
    "id": "C_dlOJjQzzPa"
   },
   "outputs": [
    {
     "data": {
      "image/png": "[encoded data removed]",
      "text/plain": [
       "<Figure size 432x288 with 1 Axes>"
      ]
     },
     "metadata": {
      "needs_background": "light"
     },
     "output_type": "display_data"
    }
   ],
   "source": [
    "#Lets print the image as well\n",
    "import matplotlib.pyplot as plt\n",
    "plt.imshow(testX[0],cmap='gray')\n",
    "plt.show()"
   ]
  }
 ],
 "metadata": {
  "colab": {
   "collapsed_sections": [
    "QHbDtQQJMd6m",
    "8rxmqpkpMd6r",
    "nACcpZ6oMd6z",
    "7KgYo8NeIAsD",
    "DSrx5nDAJVuw",
    "2buwfHWIKZnX",
    "u0OQOuFCMJXG",
    "Lblu99B6Md7l",
    "ZJGgUEWWOucV",
    "aAPfctJ-PIgj",
    "PIqCdyrmM_EW",
    "Dzuw6nSOm69M"
   ],
   "name": "Improving the ML Model - Different techniques.ipynb",
   "private_outputs": true,
   "provenance": []
  },
  "kernelspec": {
   "display_name": "Python 3 (ipykernel)",
   "language": "python",
   "name": "python3"
  },
  "language_info": {
   "codemirror_mode": {
    "name": "ipython",
    "version": 3
   },
   "file_extension": ".py",
   "mimetype": "text/x-python",
   "name": "python",
   "nbconvert_exporter": "python",
   "pygments_lexer": "ipython3",
   "version": "3.9.12"
  }
 },
 "nbformat": 4,
 "nbformat_minor": 1
}
